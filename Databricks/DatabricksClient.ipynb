{
 "cells": [
  {
   "cell_type": "markdown",
   "metadata": {},
   "source": [
    "# DataBricks Integration Using the aisquared DatabricksClient\n",
    "\n",
    "This notebook shows how to set up the `aisquared` package and connect it to a Databricks workspace to create a job to train a model. We then deploy that model as a REST endpoint in the Databricks workspace"
   ]
  },
  {
   "cell_type": "markdown",
   "metadata": {},
   "source": [
    "## Installation\n",
    "\n",
    "First, let's install all the required packages"
   ]
  },
  {
   "cell_type": "code",
   "execution_count": null,
   "metadata": {},
   "outputs": [],
   "source": [
    "# Install the aisquared package and scikit-learn\n",
    "\n",
    "! pip install --upgrade 'aisquared[full]' scikit-learn"
   ]
  },
  {
   "cell_type": "code",
   "execution_count": null,
   "metadata": {},
   "outputs": [],
   "source": [
    "from sklearn.datasets import load_iris\n",
    "import aisquared\n",
    "import requests\n",
    "\n",
    "USER_DIRECTORY = '/Users/jacob.renn@squared.ai'\n",
    "MODEL_NAME = 'IRIS_DECISION_TREE'"
   ]
  },
  {
   "cell_type": "markdown",
   "metadata": {},
   "source": [
    "## Authenticate with Databricks\n",
    "\n",
    "Next, we need to stand up our `aisquared DatabricksClient` and connect it to our workspace."
   ]
  },
  {
   "cell_type": "code",
   "execution_count": null,
   "metadata": {},
   "outputs": [],
   "source": [
    "# Create the client\n",
    "client = aisquared.platform.DatabricksClient()\n",
    "\n",
    "# Authenticate with the Databricks workspace\n",
    "#client.login()"
   ]
  },
  {
   "cell_type": "markdown",
   "metadata": {},
   "source": [
    "## Upload Training Script to Workspace and Create a Job with the Script\n",
    "\n",
    "Now, we are going to upload the training script (in this directory) to the connected Databricks workspace. This ensures that the script can be run in a job."
   ]
  },
  {
   "cell_type": "code",
   "execution_count": null,
   "metadata": {},
   "outputs": [],
   "source": [
    "client.upload_to_workspace('train_iris.py')"
   ]
  },
  {
   "cell_type": "markdown",
   "metadata": {},
   "source": [
    "## Create and run a job that runs the script we just uploaded\n",
    "\n",
    "Now that the script is uploaded into the workspace, we will create a job to allow us to run the script."
   ]
  },
  {
   "cell_type": "code",
   "execution_count": null,
   "metadata": {},
   "outputs": [],
   "source": [
    "# Create the job\n",
    "client.create_job(\n",
    "    job_name = 'train_iris_job_aisquared_client',\n",
    "    tasks = [{'train_iris': f'{USER_DIRECTORY}/train_iris.py'}],\n",
    "    libraries = ['mlflow', 'scikit-learn'],\n",
    "    compute_name = 'train_iris_aisquared_client_job_compute',\n",
    "    spark_version = '13.3.x-scala2.12',\n",
    "    node_type_id = 'Standard_DS3_v2'\n",
    ")\n",
    "\n",
    "# Get the job ID for the job\n",
    "jobs = client.list_jobs()\n",
    "job_id = str(jobs[jobs['settings.name'] == 'train_iris_job_aisquared_client'].job_id.iloc[0])\n",
    "\n",
    "# Run the job\n",
    "client.run_job(job_id)"
   ]
  },
  {
   "cell_type": "markdown",
   "metadata": {},
   "source": [
    "## List the New Model in the Workspace and Deploy the Model to a Serving Endpoint\n",
    "\n",
    "Once we've kicked off the job, we will have to wait a few minutes for the job to finish.  Typically, on testing this job during development, we have typically seen that this job takes about five minutes to complete.\n",
    "\n",
    "Once the job has completed its run, we can use the model and deploy it to a live serving endpoint"
   ]
  },
  {
   "cell_type": "code",
   "execution_count": null,
   "metadata": {},
   "outputs": [],
   "source": [
    "client.create_served_model(\n",
    "    MODEL_NAME,\n",
    "    '1',\n",
    "    'Small'\n",
    ")"
   ]
  },
  {
   "cell_type": "markdown",
   "metadata": {},
   "source": [
    "## Use the Model for Inference\n",
    "\n",
    "Once the model serving endpoint has been created, we can query the endpoint with live data"
   ]
  },
  {
   "cell_type": "code",
   "execution_count": null,
   "metadata": {},
   "outputs": [],
   "source": [
    "dataset = load_iris()\n",
    "data = dataset['data']\n",
    "\n",
    "with requests.Session() as sess:\n",
    "    resp = sess.post(\n",
    "        url = f'{client.base_url}/serving-endpoints/{MODEL_NAME}/invocations',\n",
    "        headers = client.headers,\n",
    "        json = {\n",
    "            'inputs' : data.tolist()\n",
    "        }\n",
    "    )\n",
    "\n",
    "print(resp.json())"
   ]
  }
 ],
 "metadata": {
  "kernelspec": {
   "display_name": "base",
   "language": "python",
   "name": "python3"
  },
  "language_info": {
   "codemirror_mode": {
    "name": "ipython",
    "version": 3
   },
   "file_extension": ".py",
   "mimetype": "text/x-python",
   "name": "python",
   "nbconvert_exporter": "python",
   "pygments_lexer": "ipython3",
   "version": "3.10.13"
  }
 },
 "nbformat": 4,
 "nbformat_minor": 2
}
