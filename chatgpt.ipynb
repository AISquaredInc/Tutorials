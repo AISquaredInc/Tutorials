{
 "cells": [
  {
   "cell_type": "markdown",
   "metadata": {},
   "source": [
    "# Building a ChatGPT Integration with AI Squared\n",
    "\n",
    "In this notebook, we are going to create a ChatGPT integration `.air` file that can be uploaded to the AI Squared Extension\n",
    "\n",
    "Note that this notebook expects your OpenAI API key to be stored as an environment variable with the name `OPENAI_API_KEY` to work properly."
   ]
  },
  {
   "cell_type": "markdown",
   "metadata": {},
   "source": [
    "## Installing and Importing the Required Packages\n",
    "\n",
    "Before we continue, we hae to install the `aisquared` Python SDK.  Since we will be interacting with the OpenAI API for ChatGPT, there is no other package we will have to install."
   ]
  },
  {
   "cell_type": "code",
   "execution_count": null,
   "metadata": {},
   "outputs": [],
   "source": [
    "# Install the required package\n",
    "! pip install aisquared"
   ]
  },
  {
   "cell_type": "code",
   "execution_count": null,
   "metadata": {},
   "outputs": [],
   "source": [
    "# Import the required packages\n",
    "import aisquared\n",
    "\n",
    "# Import the os module, since we will be utilizing environment variables\n",
    "import os"
   ]
  },
  {
   "cell_type": "markdown",
   "metadata": {},
   "source": [
    "## Creating the Configuration Objects\n",
    "\n",
    "Now that we have imported the `aisquared` package, we can start creating the configuration objects that will be used to create the `.air` file.  We will have the following objects in this example:\n",
    "\n",
    "1. `ChatHarvester` to harvest user-input text in a chat conversation\n",
    "2. `DeployedAnalytic` to utilize the REST API OpenAI provides for ChatGPT\n",
    "3. `ChatRenderer` to render the responses the model provides"
   ]
  },
  {
   "cell_type": "code",
   "execution_count": null,
   "metadata": {},
   "outputs": [],
   "source": [
    "# Create the harvester\n",
    "harvester = aisquared.config.harvesting.ChatbotHarvester(\n",
    "    title = 'Chat-GPT'\n",
    ")\n",
    "\n",
    "# Configure the API call\n",
    "analytic = aisquared.config.analytic.DeployedAnalytic(\n",
    "    url = 'https://api.openai.com/v1/chat/completions', # the URL of the API\n",
    "    method = 'POST',                                    # request method\n",
    "    input_type = 'text',                                # signifies the input data type\n",
    "    headers = {                                         # headers to send with each request\n",
    "        'Content-Type' : 'application/json',\n",
    "        'Authorization' : f'Bearer {os.environ[\"OPENAI_API_KEY\"]}'\n",
    "    },\n",
    "    body = {                                            # body to send with the request\n",
    "        'model' : 'gpt-3.5-turbo',\n",
    "        'messages' : [\n",
    "            {\n",
    "                'role' : 'user',\n",
    "                'content' : '{{input}}'                 # {{input}} is used to signify the input data to the extension\n",
    "            }\n",
    "        ]\n",
    "    }\n",
    ")\n",
    "\n",
    "# Configure the rendering\n",
    "renderer = aisquared.config.rendering.ChatRendering(\n",
    "    return_key = 'choices.0.message.content',\n",
    "    sender_name = 'You',\n",
    "    responder_name = 'Chat-GPT'\n",
    ")"
   ]
  },
  {
   "cell_type": "code",
   "execution_count": null,
   "metadata": {},
   "outputs": [],
   "source": [
    "# Create the .air file\n",
    "config = aisquared.config.ModelConfiguration(\n",
    "    'ChatGPT_Example',\n",
    "    harvesting_steps = harvester,\n",
    "    analytic = analytic,\n",
    "    rendering_steps = renderer\n",
    ")\n",
    "\n",
    "# Compile the object down to an .air file\n",
    "config.compile()"
   ]
  }
 ],
 "metadata": {
  "kernelspec": {
   "display_name": "base",
   "language": "python",
   "name": "python3"
  },
  "language_info": {
   "codemirror_mode": {
    "name": "ipython",
    "version": 3
   },
   "file_extension": ".py",
   "mimetype": "text/x-python",
   "name": "python",
   "nbconvert_exporter": "python",
   "pygments_lexer": "ipython3",
   "version": "3.10.14"
  }
 },
 "nbformat": 4,
 "nbformat_minor": 2
}
