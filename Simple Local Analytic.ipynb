{
 "cells": [
  {
   "cell_type": "markdown",
   "id": "a9eab911",
   "metadata": {},
   "source": [
    "# Simple AIR File Example Using Local Analytic\n",
    "\n",
    "In this notebook, we intend to get the user up to speed regarding using the `aisquared` Python package to create a `.air` file using a simple use case.  This use case will be what we have called a \"Local Analytic\", which involves creating a lookup table that matches words to results.\n",
    "\n",
    "In this notebook, we will create a `.air` file that will allow the user to identify the word 'the' on a webpage and augment the user's browsing experience with some additional context around the identified word.  We will show end-to-end how to create this integration and compile it into a `.air` file.  Let's get started!"
   ]
  },
  {
   "cell_type": "markdown",
   "id": "ffcda09a",
   "metadata": {},
   "source": [
    "## Installing and Importing `aisquared`\n",
    "\n",
    "First, let's make sure the `aisquared` package is installed, and then we will import it.  We will also import the `json` package, which we will use to store the analytic as a JSON file."
   ]
  },
  {
   "cell_type": "code",
   "execution_count": 1,
   "id": "351565f4",
   "metadata": {},
   "outputs": [
    {
     "name": "stdout",
     "output_type": "stream",
     "text": [
      "Looking in indexes: https://pypi.org/simple, https://pypi.ngc.nvidia.com\n",
      "Requirement already satisfied: aisquared in /Users/jwrenn4/miniforge3/lib/python3.10/site-packages (0.3.6.dev0)\n",
      "Requirement already satisfied: numpy<=1.23.4 in /Users/jwrenn4/miniforge3/lib/python3.10/site-packages (from aisquared) (1.23.4)\n",
      "Requirement already satisfied: tensorflowjs in /Users/jwrenn4/miniforge3/lib/python3.10/site-packages (from aisquared) (4.9.0)\n",
      "Requirement already satisfied: tensorflow in /Users/jwrenn4/miniforge3/lib/python3.10/site-packages (from aisquared) (2.13.0)\n",
      "Requirement already satisfied: pandas in /Users/jwrenn4/miniforge3/lib/python3.10/site-packages (from aisquared) (2.0.3)\n",
      "Requirement already satisfied: python-dateutil>=2.8.2 in /Users/jwrenn4/miniforge3/lib/python3.10/site-packages (from pandas->aisquared) (2.8.2)\n",
      "Requirement already satisfied: pytz>=2020.1 in /Users/jwrenn4/miniforge3/lib/python3.10/site-packages (from pandas->aisquared) (2023.3)\n",
      "Requirement already satisfied: tzdata>=2022.1 in /Users/jwrenn4/miniforge3/lib/python3.10/site-packages (from pandas->aisquared) (2023.3)\n",
      "Requirement already satisfied: tensorflow-macos==2.13.0 in /Users/jwrenn4/miniforge3/lib/python3.10/site-packages (from tensorflow->aisquared) (2.13.0)\n",
      "Requirement already satisfied: absl-py>=1.0.0 in /Users/jwrenn4/miniforge3/lib/python3.10/site-packages (from tensorflow-macos==2.13.0->tensorflow->aisquared) (1.4.0)\n",
      "Requirement already satisfied: astunparse>=1.6.0 in /Users/jwrenn4/miniforge3/lib/python3.10/site-packages (from tensorflow-macos==2.13.0->tensorflow->aisquared) (1.6.3)\n",
      "Requirement already satisfied: flatbuffers>=23.1.21 in /Users/jwrenn4/miniforge3/lib/python3.10/site-packages (from tensorflow-macos==2.13.0->tensorflow->aisquared) (23.5.26)\n",
      "Requirement already satisfied: gast<=0.4.0,>=0.2.1 in /Users/jwrenn4/miniforge3/lib/python3.10/site-packages (from tensorflow-macos==2.13.0->tensorflow->aisquared) (0.4.0)\n",
      "Requirement already satisfied: google-pasta>=0.1.1 in /Users/jwrenn4/miniforge3/lib/python3.10/site-packages (from tensorflow-macos==2.13.0->tensorflow->aisquared) (0.2.0)\n",
      "Requirement already satisfied: h5py>=2.9.0 in /Users/jwrenn4/miniforge3/lib/python3.10/site-packages (from tensorflow-macos==2.13.0->tensorflow->aisquared) (3.9.0)\n",
      "Requirement already satisfied: libclang>=13.0.0 in /Users/jwrenn4/miniforge3/lib/python3.10/site-packages (from tensorflow-macos==2.13.0->tensorflow->aisquared) (16.0.6)\n",
      "Requirement already satisfied: opt-einsum>=2.3.2 in /Users/jwrenn4/miniforge3/lib/python3.10/site-packages (from tensorflow-macos==2.13.0->tensorflow->aisquared) (3.3.0)\n",
      "Requirement already satisfied: packaging in /Users/jwrenn4/miniforge3/lib/python3.10/site-packages (from tensorflow-macos==2.13.0->tensorflow->aisquared) (20.9)\n",
      "Requirement already satisfied: protobuf!=4.21.0,!=4.21.1,!=4.21.2,!=4.21.3,!=4.21.4,!=4.21.5,<5.0.0dev,>=3.20.3 in /Users/jwrenn4/miniforge3/lib/python3.10/site-packages (from tensorflow-macos==2.13.0->tensorflow->aisquared) (4.23.4)\n",
      "Requirement already satisfied: setuptools in /Users/jwrenn4/miniforge3/lib/python3.10/site-packages (from tensorflow-macos==2.13.0->tensorflow->aisquared) (68.1.2)\n",
      "Requirement already satisfied: six>=1.12.0 in /Users/jwrenn4/miniforge3/lib/python3.10/site-packages (from tensorflow-macos==2.13.0->tensorflow->aisquared) (1.16.0)\n",
      "Requirement already satisfied: termcolor>=1.1.0 in /Users/jwrenn4/miniforge3/lib/python3.10/site-packages (from tensorflow-macos==2.13.0->tensorflow->aisquared) (2.3.0)\n",
      "Requirement already satisfied: typing-extensions<4.6.0,>=3.6.6 in /Users/jwrenn4/miniforge3/lib/python3.10/site-packages (from tensorflow-macos==2.13.0->tensorflow->aisquared) (4.5.0)\n",
      "Requirement already satisfied: wrapt>=1.11.0 in /Users/jwrenn4/miniforge3/lib/python3.10/site-packages (from tensorflow-macos==2.13.0->tensorflow->aisquared) (1.15.0)\n",
      "Requirement already satisfied: grpcio<2.0,>=1.24.3 in /Users/jwrenn4/miniforge3/lib/python3.10/site-packages (from tensorflow-macos==2.13.0->tensorflow->aisquared) (1.56.2)\n",
      "Requirement already satisfied: tensorboard<2.14,>=2.13 in /Users/jwrenn4/miniforge3/lib/python3.10/site-packages (from tensorflow-macos==2.13.0->tensorflow->aisquared) (2.13.0)\n",
      "Requirement already satisfied: tensorflow-estimator<2.14,>=2.13.0 in /Users/jwrenn4/miniforge3/lib/python3.10/site-packages (from tensorflow-macos==2.13.0->tensorflow->aisquared) (2.13.0)\n",
      "Requirement already satisfied: keras<2.14,>=2.13.1 in /Users/jwrenn4/miniforge3/lib/python3.10/site-packages (from tensorflow-macos==2.13.0->tensorflow->aisquared) (2.13.1)\n",
      "Requirement already satisfied: flax<0.6.3,>=0.6.2 in /Users/jwrenn4/miniforge3/lib/python3.10/site-packages (from tensorflowjs->aisquared) (0.6.2)\n",
      "Requirement already satisfied: importlib_resources>=5.9.0 in /Users/jwrenn4/miniforge3/lib/python3.10/site-packages (from tensorflowjs->aisquared) (6.0.0)\n",
      "Requirement already satisfied: jax>=0.3.16 in /Users/jwrenn4/miniforge3/lib/python3.10/site-packages (from tensorflowjs->aisquared) (0.4.13)\n",
      "Requirement already satisfied: tensorflow-decision-forests>=1.3.0 in /Users/jwrenn4/miniforge3/lib/python3.10/site-packages (from tensorflowjs->aisquared) (1.5.0)\n",
      "Requirement already satisfied: tensorflow-hub>=0.13.0 in /Users/jwrenn4/miniforge3/lib/python3.10/site-packages (from tensorflowjs->aisquared) (0.14.0)\n",
      "Requirement already satisfied: matplotlib in /Users/jwrenn4/miniforge3/lib/python3.10/site-packages (from flax<0.6.3,>=0.6.2->tensorflowjs->aisquared) (3.7.2)\n",
      "Requirement already satisfied: msgpack in /Users/jwrenn4/miniforge3/lib/python3.10/site-packages (from flax<0.6.3,>=0.6.2->tensorflowjs->aisquared) (1.0.5)\n",
      "Requirement already satisfied: optax in /Users/jwrenn4/miniforge3/lib/python3.10/site-packages (from flax<0.6.3,>=0.6.2->tensorflowjs->aisquared) (0.1.5)\n",
      "Requirement already satisfied: tensorstore in /Users/jwrenn4/miniforge3/lib/python3.10/site-packages (from flax<0.6.3,>=0.6.2->tensorflowjs->aisquared) (0.1.40)\n",
      "Requirement already satisfied: rich>=11.1 in /Users/jwrenn4/miniforge3/lib/python3.10/site-packages (from flax<0.6.3,>=0.6.2->tensorflowjs->aisquared) (13.4.2)\n",
      "Requirement already satisfied: PyYAML>=5.4.1 in /Users/jwrenn4/miniforge3/lib/python3.10/site-packages (from flax<0.6.3,>=0.6.2->tensorflowjs->aisquared) (6.0.1)\n",
      "Requirement already satisfied: ml-dtypes>=0.1.0 in /Users/jwrenn4/miniforge3/lib/python3.10/site-packages (from jax>=0.3.16->tensorflowjs->aisquared) (0.2.0)\n",
      "Requirement already satisfied: scipy>=1.7 in /Users/jwrenn4/miniforge3/lib/python3.10/site-packages (from jax>=0.3.16->tensorflowjs->aisquared) (1.11.1)\n",
      "Requirement already satisfied: pyparsing>=2.0.2 in /Users/jwrenn4/miniforge3/lib/python3.10/site-packages (from packaging->tensorflow-macos==2.13.0->tensorflow->aisquared) (3.0.9)\n",
      "Requirement already satisfied: wheel in /Users/jwrenn4/miniforge3/lib/python3.10/site-packages (from tensorflow-decision-forests>=1.3.0->tensorflowjs->aisquared) (0.41.1)\n",
      "Requirement already satisfied: wurlitzer in /Users/jwrenn4/miniforge3/lib/python3.10/site-packages (from tensorflow-decision-forests>=1.3.0->tensorflowjs->aisquared) (3.0.3)\n",
      "Requirement already satisfied: markdown-it-py>=2.2.0 in /Users/jwrenn4/miniforge3/lib/python3.10/site-packages (from rich>=11.1->flax<0.6.3,>=0.6.2->tensorflowjs->aisquared) (2.2.0)\n",
      "Requirement already satisfied: pygments<3.0.0,>=2.13.0 in /Users/jwrenn4/miniforge3/lib/python3.10/site-packages (from rich>=11.1->flax<0.6.3,>=0.6.2->tensorflowjs->aisquared) (2.15.1)\n",
      "Requirement already satisfied: google-auth<3,>=1.6.3 in /Users/jwrenn4/miniforge3/lib/python3.10/site-packages (from tensorboard<2.14,>=2.13->tensorflow-macos==2.13.0->tensorflow->aisquared) (2.22.0)\n",
      "Requirement already satisfied: google-auth-oauthlib<1.1,>=0.5 in /Users/jwrenn4/miniforge3/lib/python3.10/site-packages (from tensorboard<2.14,>=2.13->tensorflow-macos==2.13.0->tensorflow->aisquared) (1.0.0)\n",
      "Requirement already satisfied: markdown>=2.6.8 in /Users/jwrenn4/miniforge3/lib/python3.10/site-packages (from tensorboard<2.14,>=2.13->tensorflow-macos==2.13.0->tensorflow->aisquared) (3.4.3)\n",
      "Requirement already satisfied: requests<3,>=2.21.0 in /Users/jwrenn4/miniforge3/lib/python3.10/site-packages (from tensorboard<2.14,>=2.13->tensorflow-macos==2.13.0->tensorflow->aisquared) (2.31.0)\n",
      "Requirement already satisfied: tensorboard-data-server<0.8.0,>=0.7.0 in /Users/jwrenn4/miniforge3/lib/python3.10/site-packages (from tensorboard<2.14,>=2.13->tensorflow-macos==2.13.0->tensorflow->aisquared) (0.7.1)\n",
      "Requirement already satisfied: werkzeug>=1.0.1 in /Users/jwrenn4/miniforge3/lib/python3.10/site-packages (from tensorboard<2.14,>=2.13->tensorflow-macos==2.13.0->tensorflow->aisquared) (2.3.6)\n",
      "Requirement already satisfied: contourpy>=1.0.1 in /Users/jwrenn4/miniforge3/lib/python3.10/site-packages (from matplotlib->flax<0.6.3,>=0.6.2->tensorflowjs->aisquared) (1.1.0)\n",
      "Requirement already satisfied: cycler>=0.10 in /Users/jwrenn4/miniforge3/lib/python3.10/site-packages (from matplotlib->flax<0.6.3,>=0.6.2->tensorflowjs->aisquared) (0.11.0)\n",
      "Requirement already satisfied: fonttools>=4.22.0 in /Users/jwrenn4/miniforge3/lib/python3.10/site-packages (from matplotlib->flax<0.6.3,>=0.6.2->tensorflowjs->aisquared) (4.41.1)\n",
      "Requirement already satisfied: kiwisolver>=1.0.1 in /Users/jwrenn4/miniforge3/lib/python3.10/site-packages (from matplotlib->flax<0.6.3,>=0.6.2->tensorflowjs->aisquared) (1.4.4)\n",
      "Requirement already satisfied: pillow>=6.2.0 in /Users/jwrenn4/miniforge3/lib/python3.10/site-packages (from matplotlib->flax<0.6.3,>=0.6.2->tensorflowjs->aisquared) (10.0.0)\n",
      "Requirement already satisfied: chex>=0.1.5 in /Users/jwrenn4/miniforge3/lib/python3.10/site-packages (from optax->flax<0.6.3,>=0.6.2->tensorflowjs->aisquared) (0.1.7)\n",
      "Requirement already satisfied: jaxlib>=0.1.37 in /Users/jwrenn4/miniforge3/lib/python3.10/site-packages (from optax->flax<0.6.3,>=0.6.2->tensorflowjs->aisquared) (0.4.13)\n",
      "Requirement already satisfied: dm-tree>=0.1.5 in /Users/jwrenn4/miniforge3/lib/python3.10/site-packages (from chex>=0.1.5->optax->flax<0.6.3,>=0.6.2->tensorflowjs->aisquared) (0.1.8)\n",
      "Requirement already satisfied: toolz>=0.9.0 in /Users/jwrenn4/miniforge3/lib/python3.10/site-packages (from chex>=0.1.5->optax->flax<0.6.3,>=0.6.2->tensorflowjs->aisquared) (0.12.0)\n",
      "Requirement already satisfied: cachetools<6.0,>=2.0.0 in /Users/jwrenn4/miniforge3/lib/python3.10/site-packages (from google-auth<3,>=1.6.3->tensorboard<2.14,>=2.13->tensorflow-macos==2.13.0->tensorflow->aisquared) (5.3.1)\n",
      "Requirement already satisfied: pyasn1-modules>=0.2.1 in /Users/jwrenn4/miniforge3/lib/python3.10/site-packages (from google-auth<3,>=1.6.3->tensorboard<2.14,>=2.13->tensorflow-macos==2.13.0->tensorflow->aisquared) (0.3.0)\n",
      "Requirement already satisfied: rsa<5,>=3.1.4 in /Users/jwrenn4/miniforge3/lib/python3.10/site-packages (from google-auth<3,>=1.6.3->tensorboard<2.14,>=2.13->tensorflow-macos==2.13.0->tensorflow->aisquared) (4.9)\n",
      "Requirement already satisfied: urllib3<2.0 in /Users/jwrenn4/miniforge3/lib/python3.10/site-packages (from google-auth<3,>=1.6.3->tensorboard<2.14,>=2.13->tensorflow-macos==2.13.0->tensorflow->aisquared) (1.26.16)\n",
      "Requirement already satisfied: requests-oauthlib>=0.7.0 in /Users/jwrenn4/miniforge3/lib/python3.10/site-packages (from google-auth-oauthlib<1.1,>=0.5->tensorboard<2.14,>=2.13->tensorflow-macos==2.13.0->tensorflow->aisquared) (1.3.1)\n",
      "Requirement already satisfied: mdurl~=0.1 in /Users/jwrenn4/miniforge3/lib/python3.10/site-packages (from markdown-it-py>=2.2.0->rich>=11.1->flax<0.6.3,>=0.6.2->tensorflowjs->aisquared) (0.1.2)\n",
      "Requirement already satisfied: charset-normalizer<4,>=2 in /Users/jwrenn4/miniforge3/lib/python3.10/site-packages (from requests<3,>=2.21.0->tensorboard<2.14,>=2.13->tensorflow-macos==2.13.0->tensorflow->aisquared) (3.2.0)\n",
      "Requirement already satisfied: idna<4,>=2.5 in /Users/jwrenn4/miniforge3/lib/python3.10/site-packages (from requests<3,>=2.21.0->tensorboard<2.14,>=2.13->tensorflow-macos==2.13.0->tensorflow->aisquared) (3.4)\n",
      "Requirement already satisfied: certifi>=2017.4.17 in /Users/jwrenn4/miniforge3/lib/python3.10/site-packages (from requests<3,>=2.21.0->tensorboard<2.14,>=2.13->tensorflow-macos==2.13.0->tensorflow->aisquared) (2023.7.22)\n",
      "Requirement already satisfied: MarkupSafe>=2.1.1 in /Users/jwrenn4/miniforge3/lib/python3.10/site-packages (from werkzeug>=1.0.1->tensorboard<2.14,>=2.13->tensorflow-macos==2.13.0->tensorflow->aisquared) (2.1.3)\n",
      "Requirement already satisfied: pyasn1<0.6.0,>=0.4.6 in /Users/jwrenn4/miniforge3/lib/python3.10/site-packages (from pyasn1-modules>=0.2.1->google-auth<3,>=1.6.3->tensorboard<2.14,>=2.13->tensorflow-macos==2.13.0->tensorflow->aisquared) (0.5.0)\n",
      "Requirement already satisfied: oauthlib>=3.0.0 in /Users/jwrenn4/miniforge3/lib/python3.10/site-packages (from requests-oauthlib>=0.7.0->google-auth-oauthlib<1.1,>=0.5->tensorboard<2.14,>=2.13->tensorflow-macos==2.13.0->tensorflow->aisquared) (3.2.2)\n"
     ]
    }
   ],
   "source": [
    "# Install the aisquared package\n",
    "! pip install aisquared\n",
    "\n",
    "# Import the required packages\n",
    "import aisquared\n",
    "import json"
   ]
  },
  {
   "cell_type": "markdown",
   "id": "2b2b8173",
   "metadata": {},
   "source": [
    "## Create our analytic\n",
    "\n",
    "Before we create the `.air` file, we need to save the analytic that will be run when the word is harvested. To do this, we just need to map the word we are looking for to a result using a dictionary, then save the dictionary to a JSON file.  The following cell takes care of that for us."
   ]
  },
  {
   "cell_type": "code",
   "execution_count": 2,
   "id": "44542613",
   "metadata": {},
   "outputs": [],
   "source": [
    "with open('analytic.json', 'w') as f:\n",
    "    json.dump({'the' : 'This is the most common word in the English language!'}, f)"
   ]
  },
  {
   "cell_type": "markdown",
   "id": "e2487cea",
   "metadata": {},
   "source": [
    "## Defining the Integration Steps\n",
    "\n",
    "Now that our analytic is saved, let's define how the integration is going to take place.  We want to harvest any instance of the word \"the\" from the webpage, then take those instances of the word and run them against the analytic we just saved, and finally render the results in the browser as a clickable underline n each instance of the word \"the\" that was found.  To do this, we are going to use:\n",
    "\n",
    "1. A `TextHarvester` to harvest the word \"the\" using a regex\n",
    "2. A `LocalAnalytic` to point to the analytic we want to run\n",
    "3. A `WordRenderer` to render the results\n",
    "\n",
    "Finally, we are going to combine these steps in a `ModelConfiguration` object and compile it into a `.air` file!"
   ]
  },
  {
   "cell_type": "code",
   "execution_count": 3,
   "id": "4ce2658a",
   "metadata": {},
   "outputs": [],
   "source": [
    "# Create the harvester, which will look for the word 'the'\n",
    "harvester = aisquared.config.harvesting.TextHarvester(how = 'regex', regex = 'the')\n",
    "\n",
    "# Create the analytic\n",
    "analytic = aisquared.config.analytic.LocalAnalytic('analytic.json', input_type = 'text')\n",
    "\n",
    "# Create the rendering step\n",
    "renderer = aisquared.config.rendering.WordRendering(badge_shape = 'underline')\n",
    "\n",
    "# Combine all the steps in the ModelConfiguration object\n",
    "aisquared.config.ModelConfiguration(\n",
    "    name='LocalAnalytic',\n",
    "    harvesting_steps=harvester,\n",
    "    analytic=analytic,\n",
    "    rendering_steps=renderer\n",
    ").compile()"
   ]
  },
  {
   "cell_type": "markdown",
   "id": "c058c31f",
   "metadata": {},
   "source": [
    "## `.air` File Created!\n",
    "\n",
    "Now that the last cell was run, we now have a file called `LocalAnalytic.air` stored in the current directory!  Let's take a look at the files we have in the directory currently and check!"
   ]
  },
  {
   "cell_type": "code",
   "execution_count": null,
   "id": "8776596e",
   "metadata": {},
   "outputs": [],
   "source": [
    "!ls"
   ]
  },
  {
   "cell_type": "markdown",
   "id": "e0dce99d",
   "metadata": {},
   "source": [
    "## Using the `.air` File\n",
    "\n",
    "Now that we have that `.air` file, we can upload it into the platform and start using it.  Go ahead and take a few minutes and start playing around with it!\n",
    "\n",
    "Once you get comfortable, try seeing if you can modify the code here to provide different functionality.  Here are some ideas:\n",
    "\n",
    "1. Can we build a harvester that harvests the word \"the\", regardless of letters being uppercase or lowercase?\n",
    "2. Can we build a harvester that not only harvests the word \"the\", but also harvests other words?\n",
    "    1. Be sure to change the analytic to accommodate these other words!\n",
    "3. Can we change the way the rendering occurs? Maybe instead of a blue underline, we can make it a purple circle, for example?"
   ]
  }
 ],
 "metadata": {
  "kernelspec": {
   "display_name": "base",
   "language": "python",
   "name": "python3"
  },
  "language_info": {
   "codemirror_mode": {
    "name": "ipython",
    "version": 3
   },
   "file_extension": ".py",
   "mimetype": "text/x-python",
   "name": "python",
   "nbconvert_exporter": "python",
   "pygments_lexer": "ipython3",
   "version": "3.10.12"
  },
  "vscode": {
   "interpreter": {
    "hash": "ce06f28078c5ee89615bc93f96b77cd60d44a9e1412956783996ce9d49602585"
   }
  }
 },
 "nbformat": 4,
 "nbformat_minor": 5
}
