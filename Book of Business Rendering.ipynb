{
 "cells": [
  {
   "cell_type": "markdown",
   "id": "e15f2a29",
   "metadata": {},
   "source": [
    "# End to End Example of Using the `aisquared` Python SDK to Create a Dashboard Integration Using a `ReverseMLWorkflow`\n",
    "\n",
    "In this tutorial, we will go over the creation of a `.air` file that uses a `ReverseMLWorkflow` to pull data from an Amazon S3 bucket and populate a dashboard into multiple end user applications.\n",
    "\n",
    "This notebook differs only slightly from the `End-to-end Dashboard.ipynb` example also in this repository.  The main difference between the two notebooks is the `query_selector` parameter in the rendering steps.  The other notebook only has the first selector published, meaning it only looks for the \"general\" tab in Dynamics 365. This notebook expands which selection and injection criteria are expected, allowing the resulting `.air` file to inject on multiple pages."
   ]
  },
  {
   "cell_type": "markdown",
   "id": "eb7ae5b2",
   "metadata": {},
   "source": [
    "# Importing Packages\n",
    "\n",
    "Because the data to be used for the Reverse ML Workflow is already stored in S3, we only need to import the `config` subpackage from the `aisquared` package to complete this tutorial."
   ]
  },
  {
   "cell_type": "code",
   "execution_count": 1,
   "id": "15c74583",
   "metadata": {},
   "outputs": [],
   "source": [
    "# import the aisquared package\n",
    "from aisquared import config\n",
    "\n",
    "from aisquared.base import CustomObject"
   ]
  },
  {
   "cell_type": "markdown",
   "id": "3c533ac4",
   "metadata": {},
   "source": [
    "# Defining the Workflow\n",
    "\n",
    "Now that we have imported the required package, let's dive head first into completing this workflow.  We are going to need to perform the following steps:\n",
    "\n",
    "- Create a harvester which looks for customer names in the webpage\n",
    "- Connect the webpage and the text we have harvested to the S3 bucket for query using the `ReverseMLWorkflow`\n",
    "- Render results in a set of steps to create the dashboard using the data related to the customer"
   ]
  },
  {
   "cell_type": "code",
   "execution_count": 2,
   "id": "c387bebe",
   "metadata": {},
   "outputs": [],
   "source": [
    "# Create the harvester\n",
    "harvester = config.harvesting.TextHarvester(\n",
    "    how = 'regex',\n",
    "    regex = 'Alice Alison|Bob Bobson|Charles Charleston|David Davidson|Eric Ercison|Frederick Frederickson|Georg Georges|Hilda Henrick|Igor Igloo|John Johnson',\n",
    "    limit = 1\n",
    ")\n",
    "\n",
    "# No preprocesser is required for this dashboard\n",
    "preprocesser = None\n",
    "\n",
    "# The analytic in this workflow is a ReverseMLWorkflow\n",
    "analytic = config.analytic.ReverseMLWorkflow(\n",
    "    column = 'Lead_Name',\n",
    "    period = 1,\n",
    "    filename = 'SOS_Sample_for_Dashboard_edit9.csv',\n",
    "    input_type = 'text',\n",
    "    bucket = 'ai2-demo-bucket'\n",
    ")\n",
    "\n",
    "# No postprocesser is required for this dashboard\n",
    "postprocesser = None\n",
    "\n",
    "# Rendering steps for the dashboard\n",
    "rendering_steps = [\n",
    "\n",
    "    # Create the global container that will encompass the entire dashboard\n",
    "    config.rendering.ContainerRendering(\n",
    "        label = 'Dashboard Container',\n",
    "        id = 'ai2-sos-dashboard',\n",
    "        query_selector = \"[data-id='tabpanel-general'], [data-id='tabpanel-SUMMARY_TAB'], [class='record-page-decorator'], [data-test='fullscreen-layout']\",\n",
    "        height = '75'\n",
    "    ),\n",
    "    \n",
    "    # Create the book of business rendering class\n",
    "    CustomObject(\n",
    "        class_name = 'BookOfBusinessRendering',\n",
    "        containerId = 'ai2-sos-dashboard'\n",
    "    )\n",
    "]"
   ]
  },
  {
   "cell_type": "markdown",
   "id": "ffced82a",
   "metadata": {},
   "source": [
    "# Compile Into a `.air` File\n",
    "\n",
    "Now that we have all of the steps, all we have to do is put them together and compile them into a `.air` file to be uploaded into the platform!"
   ]
  },
  {
   "cell_type": "code",
   "execution_count": 3,
   "id": "c5926d7a",
   "metadata": {},
   "outputs": [],
   "source": [
    "# Compile all of the configuration information into a ModelConfiguration class, to\n",
    "# be compiled into a .air file\n",
    "model_config = config.ModelConfiguration(\n",
    "    'Python SDK Book Of Business Dashboard',\n",
    "    harvesting_steps=harvester,\n",
    "    preprocessing_steps=preprocesser,\n",
    "    analytic=analytic,\n",
    "    postprocessing_steps=postprocesser,\n",
    "    rendering_steps=rendering_steps,\n",
    "    description='Version of the SOS Dashboard .air file created using the Python SDK'\n",
    ")\n",
    "\n",
    "# Compile the model\n",
    "model_config.compile()\n"
   ]
  },
  {
   "cell_type": "code",
   "execution_count": 4,
   "id": "84ee8e79",
   "metadata": {},
   "outputs": [
    {
     "name": "stdout",
     "output_type": "stream",
     "text": [
      "Book of Business Rendering.ipynb\r\n",
      "CIFAR10 Classifier.air\r\n",
      "End-to-end Dashboard Multiple Apps With Doughnut Chart.ipynb\r\n",
      "End-to-end Dashboard Multiple Apps.ipynb\r\n",
      "End-to-end Dashboard.ipynb\r\n",
      "Image Classification Model.ipynb\r\n",
      "LICENSE\r\n",
      "LocalAnalytic.air\r\n",
      "MyFirstAIRFile.air\r\n",
      "Python SDK Book Of Business Dashboard.air\r\n",
      "Python SDK SOS Dashboard Dynamics 365.air\r\n",
      "Python SDK SOS Dashboard Multiple Applications With Doughnut Chart.air\r\n",
      "Python SDK SOS Dashboard Multiple Applications.air\r\n",
      "README.md\r\n",
      "Simple Local Analytic.ipynb\r\n",
      "aisquared Introduction.ipynb\r\n",
      "analytic.json\r\n",
      "cifar10_classifier.h5\r\n",
      "config.json\r\n",
      "simple_analytic.json\r\n"
     ]
    }
   ],
   "source": [
    "!ls"
   ]
  },
  {
   "cell_type": "markdown",
   "id": "9727a32b",
   "metadata": {},
   "source": [
    "# Upload the file to the platform\n",
    "\n",
    "We are done!  Now, you should have a file called `Python SDK SOS Dashboard Multiple Applications` in this directory.  Go ahead and upload the file to the platform to start seeing results!"
   ]
  }
 ],
 "metadata": {
  "kernelspec": {
   "display_name": "Python 3 (ipykernel)",
   "language": "python",
   "name": "python3"
  },
  "language_info": {
   "codemirror_mode": {
    "name": "ipython",
    "version": 3
   },
   "file_extension": ".py",
   "mimetype": "text/x-python",
   "name": "python",
   "nbconvert_exporter": "python",
   "pygments_lexer": "ipython3",
   "version": "3.10.8"
  },
  "vscode": {
   "interpreter": {
    "hash": "0671325c08d22fc44ce2e58aedbf8efae69ce5eb9c1911bbe321ecb24080d883"
   }
  }
 },
 "nbformat": 4,
 "nbformat_minor": 5
}
