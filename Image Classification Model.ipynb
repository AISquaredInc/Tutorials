{
 "cells": [
  {
   "attachments": {},
   "cell_type": "markdown",
   "id": "81dcc0fa",
   "metadata": {},
   "source": [
    "# Building an Image Classifier and Integrating it into Web Applications Using AI Squared\n",
    "\n",
    "In this demo, we are going to create an image classification model using TensorFlow and BeyondML and integrate it into an `.air` file to be consumed using the AI Squared Platform and Browser Extension\n",
    "\n",
    "To do this, we are first going to install the `aisquared` and `beyondml` packages from `PyPI`, then we are going to use the `CIFAR10` dataset from TensorFlow to build an image classification model. Finally, we are going to compile the model and all required configuration information into a `.air` file to be uploaded into the AI Squared platform."
   ]
  },
  {
   "attachments": {},
   "cell_type": "markdown",
   "id": "09726645",
   "metadata": {},
   "source": [
    "# Installing and Importing the Required Packages\n",
    "\n",
    "Before we continue, we have to `aisquared` and `beyondml` packages. Then, we need to import the packages we are going to need to build and train the model and create the `.air` file."
   ]
  },
  {
   "cell_type": "code",
   "execution_count": null,
   "id": "dba086ca",
   "metadata": {},
   "outputs": [],
   "source": [
    "# Install the required packages\n",
    "! pip install aisquared\n",
    "! pip install beyondml"
   ]
  },
  {
   "cell_type": "code",
   "execution_count": null,
   "id": "28292e78",
   "metadata": {},
   "outputs": [],
   "source": [
    "# Import required packages\n",
    "\n",
    "import tensorflow as tf\n",
    "from beyondml import tflow\n",
    "import aisquared\n",
    "import numpy as np\n",
    "from sklearn.metrics import classification_report, confusion_matrix"
   ]
  },
  {
   "attachments": {},
   "cell_type": "markdown",
   "id": "ad28c9bb",
   "metadata": {},
   "source": [
    "# Loading and Preprocessing the Data and Building the Model\n",
    "\n",
    "Now that we have all of the required packages installed and imported, it's time to get to work!  The following code cells do the following:\n",
    "\n",
    "- Loads the CIFAR10 dataset - an image classification dataset using a subset of the ImageNet dataset with ten categories\n",
    "- Preprocesses the dataset by dividing all pixel values by 255\n",
    "- Builds our simple convolutional model\n",
    "- Prunes and optimizes the model using BeyondML\n",
    "- Trains the model\n",
    "- Presents model results on test (hold-out) data"
   ]
  },
  {
   "attachments": {},
   "cell_type": "markdown",
   "id": "d69ba3bf",
   "metadata": {},
   "source": [
    "### Load and preprocess the data"
   ]
  },
  {
   "cell_type": "code",
   "execution_count": null,
   "id": "d0876a77",
   "metadata": {},
   "outputs": [],
   "source": [
    "# Load the data\n",
    "(x_train, y_train), (x_test, y_test) = tf.keras.datasets.cifar10.load_data()\n",
    "\n",
    "\n",
    "# Preprocess the data\n",
    "x_train = x_train/255\n",
    "x_test = x_test/255"
   ]
  },
  {
   "attachments": {},
   "cell_type": "markdown",
   "id": "43cfb072",
   "metadata": {},
   "source": [
    "### Build and prune the model"
   ]
  },
  {
   "cell_type": "code",
   "execution_count": null,
   "id": "cf5dad18",
   "metadata": {},
   "outputs": [],
   "source": [
    "# Build the model\n",
    "input_layer = tf.keras.layers.Input(x_train.shape[1:])\n",
    "x = tflow.layers.MaskedConv2D(16, activation = 'relu', padding = 'same')(input_layer)\n",
    "x = tf.keras.layers.BatchNormalization()(x)\n",
    "x = tflow.layers.MaskedConv2D(16, activation = 'relu', padding = 'same')(x)\n",
    "x = tf.keras.layers.BatchNormalization()(x)\n",
    "x = tf.keras.layers.MaxPool2D()(x)\n",
    "x = tflow.layers.MaskedConv2D(32, activation = 'relu', padding = 'same')(x)\n",
    "x = tf.keras.layers.BatchNormalization()(x)\n",
    "x = tflow.layers.MaskedConv2D(32, activation = 'relu', padding = 'same')(x)\n",
    "x = tf.keras.layers.BatchNormalization()(x)\n",
    "x = tf.keras.layers.MaxPool2D()(x)\n",
    "x = tflow.layers.MaskedConv2D(64, activation = 'relu', padding = 'same')(x)\n",
    "x = tf.keras.layers.BatchNormalization()(x)\n",
    "x = tflow.layers.MaskedConv2D(64, activation = 'relu', padding = 'same')(x)\n",
    "x = tf.keras.layers.BatchNormalization()(x)\n",
    "x = tf.keras.layers.MaxPool2D()(x)\n",
    "x = tf.keras.layers.Flatten()(x)\n",
    "x = tflow.layers.MaskedDense(128, activation = 'relu')(x)\n",
    "output_layer = tflow.layers.MaskedDense(10, activation = 'softmax')(x)\n",
    "\n",
    "model = tf.keras.models.Model(input_layer, output_layer)\n",
    "\n",
    "# Prune the model using BeyondML so it is more performant\n",
    "model.compile(loss = 'sparse_categorical_crossentropy', metrics = ['accuracy'], optimizer = 'adam')\n",
    "model = tflow.utils.mask_model(\n",
    "    model,\n",
    "    percentile = 75,\n",
    "    x = x_train[:1000],\n",
    "    y = y_train[:1000].reshape(-1, 1)\n",
    ")\n",
    "model.compile(loss = 'sparse_categorical_crossentropy', metrics = ['accuracy'], optimizer = 'adam')\n",
    "\n",
    "# Print out the model summary\n",
    "model.summary()"
   ]
  },
  {
   "attachments": {},
   "cell_type": "markdown",
   "id": "6d1da952",
   "metadata": {},
   "source": [
    "### Train the model"
   ]
  },
  {
   "cell_type": "code",
   "execution_count": null,
   "id": "aadbf950",
   "metadata": {},
   "outputs": [],
   "source": [
    "# Fit the model on training data\n",
    "model.fit(\n",
    "    x_train,\n",
    "    y_train,\n",
    "    validation_split = 0.2,\n",
    "    batch_size = 256,\n",
    "    epochs = 10,\n",
    "    callbacks = tf.keras.callbacks.EarlyStopping(min_delta = 0.004, patience = 2, restore_best_weights = True)\n",
    ")\n",
    "\n",
    "# Remove the layer masks so that the model is fully optimized\n",
    "model = tflow.utils.remove_layer_masks(model)"
   ]
  },
  {
   "attachments": {},
   "cell_type": "markdown",
   "id": "b11b7d57",
   "metadata": {},
   "source": [
    "### Present model performance"
   ]
  },
  {
   "cell_type": "code",
   "execution_count": null,
   "id": "5112ef34",
   "metadata": {},
   "outputs": [],
   "source": [
    "preds = model.predict(x_test).argmax(axis = 1)\n",
    "print('Performance on Test Data:')\n",
    "print('\\n\\n')\n",
    "print('Confusion Matrix')\n",
    "print('\\n')\n",
    "print(confusion_matrix(y_test, preds))\n",
    "print('\\n\\nClassification Report\\n')\n",
    "print(classification_report(y_test, preds))\n",
    "model.save('cifar10_classifier.h5')"
   ]
  },
  {
   "attachments": {},
   "cell_type": "markdown",
   "id": "af6703b5",
   "metadata": {},
   "source": [
    "# Creating a `.air` File to use the Model\n",
    "\n",
    "Now that we have created the model and are happy with its performance, it's time to create a `.air` file that will use the model in the browser! To do this, we have to use the `aisquared` package, specifically the `aisquared.config` subpackage, to build out a `ModelConfiguration` and compile the `.air` file.\n",
    "\n",
    "The following cells show the code to do just that."
   ]
  },
  {
   "cell_type": "code",
   "execution_count": null,
   "id": "e222ec13",
   "metadata": {},
   "outputs": [],
   "source": [
    "# Label map that maps class numbers to actual predicted classes\n",
    "label_map = [\n",
    "                'airplane',\n",
    "                'automobile',\n",
    "                'bird',\n",
    "                'cat',\n",
    "                'deer',\n",
    "                'dog',\n",
    "                'frog',\n",
    "                'horse',\n",
    "                'ship',\n",
    "                'truck'\n",
    "            ]\n",
    "\n",
    "# Harvester that tells the AI Squared platform to harvest all images in the webpage\n",
    "harvester = aisquared.config.harvesting.ImageHarvester()\n",
    "\n",
    "# Preprocesser that reshapes the images to the required image size and also divides all pixel values by 255\n",
    "preprocesser = aisquared.config.preprocessing.image.ImagePreprocessor(\n",
    "    [\n",
    "        aisquared.config.preprocessing.image.Resize([x_train.shape[1], x_test.shape[2]]),\n",
    "        aisquared.config.preprocessing.image.DivideValue(255)\n",
    "    ]\n",
    ")\n",
    "\n",
    "# Analytic that tells the AI Squared platform to run the model that we have just saved\n",
    "analytic = aisquared.config.analytic.LocalModel('cifar10_classifier.h5', 'cv')\n",
    "\n",
    "# Postprocess results to map to the class names for the dataset\n",
    "postprocesser = aisquared.config.postprocessing.MulticlassClassification(label_map)\n",
    "\n",
    "# Render results back on the images\n",
    "renderer = aisquared.config.rendering.ImageRendering(font_size = '10', thickness = '10', font_color = 'white')\n",
    "\n",
    "# Provide feedback form\n",
    "feedback = aisquared.config.feedback.MulticlassFeedback(label_map)\n",
    "\n",
    "# Create the ModelConfiguration object to hold all of the configuration information\n",
    "model_config = aisquared.config.ModelConfiguration(\n",
    "    'CIFAR10 Classifier',\n",
    "    harvester,\n",
    "    preprocesser,\n",
    "    analytic,\n",
    "    postprocesser,\n",
    "    renderer,\n",
    "    feedback\n",
    ")\n",
    "\n",
    "# Compile the configuration into the .air file, including quantizing the weights of the model to 16-bit floats\n",
    "model_config.compile(dtype = 'float16')"
   ]
  },
  {
   "attachments": {},
   "cell_type": "markdown",
   "id": "1852db06",
   "metadata": {},
   "source": [
    "# Done!\n",
    "\n",
    "Now you should have a file named `CIFAR10 Classifier.air` in this directory!  Congrats on creating the `.air` file - now you can go and upload that file to the AI Squared platform and see it working!"
   ]
  }
 ],
 "metadata": {
  "kernelspec": {
   "display_name": "base",
   "language": "python",
   "name": "python3"
  },
  "language_info": {
   "codemirror_mode": {
    "name": "ipython",
    "version": 3
   },
   "file_extension": ".py",
   "mimetype": "text/x-python",
   "name": "python",
   "nbconvert_exporter": "python",
   "pygments_lexer": "ipython3",
   "version": "3.10.12"
  },
  "vscode": {
   "interpreter": {
    "hash": "0671325c08d22fc44ce2e58aedbf8efae69ce5eb9c1911bbe321ecb24080d883"
   }
  }
 },
 "nbformat": 4,
 "nbformat_minor": 5
}
