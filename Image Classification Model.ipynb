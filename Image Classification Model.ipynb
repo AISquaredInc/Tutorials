{
 "cells": [
  {
   "cell_type": "markdown",
   "id": "e74bd2e5",
   "metadata": {},
   "source": [
    "# Building an Image Classifier and Integrating it into Web Applications Using AI Squared\n",
    "\n",
    "In this demo, we are going to create an image classification model using TensorFlow and BeyondML and integrate it into an `.air` file to be consumed using the AI Squared Platform and Browser Extension\n",
    "\n",
    "To do this, we are first going to install the `aisquared` and `beyondml` packages from `PyPI`, then we are going to use the `CIFAR10` dataset from TensorFlow to build an image classification model."
   ]
  },
  {
   "cell_type": "code",
   "execution_count": 1,
   "id": "8815c800",
   "metadata": {},
   "outputs": [
    {
     "name": "stdout",
     "output_type": "stream",
     "text": [
      "Requirement already satisfied: aisquared in /Users/jwrenn4/miniforge3/lib/python3.10/site-packages (0.3.2.dev0)\n",
      "Requirement already satisfied: pandas in /Users/jwrenn4/miniforge3/lib/python3.10/site-packages (from aisquared) (1.5.3)\n",
      "Requirement already satisfied: tensorflowjs in /Users/jwrenn4/miniforge3/lib/python3.10/site-packages (from aisquared) (3.15.0)\n",
      "Requirement already satisfied: numpy<=1.23.4 in /Users/jwrenn4/miniforge3/lib/python3.10/site-packages (from aisquared) (1.23.4)\n",
      "Requirement already satisfied: tensorflow in /Users/jwrenn4/miniforge3/lib/python3.10/site-packages (from aisquared) (2.11.0)\n",
      "Requirement already satisfied: python-dateutil>=2.8.1 in /Users/jwrenn4/miniforge3/lib/python3.10/site-packages (from pandas->aisquared) (2.8.2)\n",
      "Requirement already satisfied: pytz>=2020.1 in /Users/jwrenn4/miniforge3/lib/python3.10/site-packages (from pandas->aisquared) (2022.7.1)\n",
      "Requirement already satisfied: gast<=0.4.0,>=0.2.1 in /Users/jwrenn4/miniforge3/lib/python3.10/site-packages (from tensorflow->aisquared) (0.4.0)\n",
      "Requirement already satisfied: opt-einsum>=2.3.2 in /Users/jwrenn4/miniforge3/lib/python3.10/site-packages (from tensorflow->aisquared) (3.3.0)\n",
      "Requirement already satisfied: keras<2.12,>=2.11.0 in /Users/jwrenn4/miniforge3/lib/python3.10/site-packages (from tensorflow->aisquared) (2.11.0)\n",
      "Requirement already satisfied: typing-extensions>=3.6.6 in /Users/jwrenn4/miniforge3/lib/python3.10/site-packages (from tensorflow->aisquared) (4.4.0)\n",
      "Requirement already satisfied: google-pasta>=0.1.1 in /Users/jwrenn4/miniforge3/lib/python3.10/site-packages (from tensorflow->aisquared) (0.2.0)\n",
      "Requirement already satisfied: six>=1.12.0 in /Users/jwrenn4/miniforge3/lib/python3.10/site-packages (from tensorflow->aisquared) (1.16.0)\n",
      "Requirement already satisfied: wrapt>=1.11.0 in /Users/jwrenn4/miniforge3/lib/python3.10/site-packages (from tensorflow->aisquared) (1.14.1)\n",
      "Requirement already satisfied: absl-py>=1.0.0 in /Users/jwrenn4/miniforge3/lib/python3.10/site-packages (from tensorflow->aisquared) (1.4.0)\n",
      "Requirement already satisfied: grpcio<2.0,>=1.24.3 in /Users/jwrenn4/miniforge3/lib/python3.10/site-packages (from tensorflow->aisquared) (1.51.1)\n",
      "Requirement already satisfied: setuptools in /Users/jwrenn4/miniforge3/lib/python3.10/site-packages (from tensorflow->aisquared) (66.1.1)\n",
      "Requirement already satisfied: astunparse>=1.6.0 in /Users/jwrenn4/miniforge3/lib/python3.10/site-packages (from tensorflow->aisquared) (1.6.3)\n",
      "Requirement already satisfied: h5py>=2.9.0 in /Users/jwrenn4/miniforge3/lib/python3.10/site-packages (from tensorflow->aisquared) (3.8.0)\n",
      "Requirement already satisfied: flatbuffers>=2.0 in /Users/jwrenn4/miniforge3/lib/python3.10/site-packages (from tensorflow->aisquared) (23.1.21)\n",
      "Requirement already satisfied: tensorflow-estimator<2.12,>=2.11.0 in /Users/jwrenn4/miniforge3/lib/python3.10/site-packages (from tensorflow->aisquared) (2.11.0)\n",
      "Requirement already satisfied: termcolor>=1.1.0 in /Users/jwrenn4/miniforge3/lib/python3.10/site-packages (from tensorflow->aisquared) (2.2.0)\n",
      "Requirement already satisfied: tensorboard<2.12,>=2.11 in /Users/jwrenn4/miniforge3/lib/python3.10/site-packages (from tensorflow->aisquared) (2.11.2)\n",
      "Requirement already satisfied: packaging in /Users/jwrenn4/miniforge3/lib/python3.10/site-packages (from tensorflow->aisquared) (23.0)\n",
      "Requirement already satisfied: protobuf>=3.9.2 in /Users/jwrenn4/miniforge3/lib/python3.10/site-packages (from tensorflow->aisquared) (3.20.3)\n",
      "Requirement already satisfied: tensorflow-hub<0.13,>=0.7.0 in /Users/jwrenn4/miniforge3/lib/python3.10/site-packages (from tensorflowjs->aisquared) (0.12.0)\n",
      "Requirement already satisfied: wheel<1.0,>=0.23.0 in /Users/jwrenn4/miniforge3/lib/python3.10/site-packages (from astunparse>=1.6.0->tensorflow->aisquared) (0.38.4)\n",
      "Requirement already satisfied: google-auth<3,>=1.6.3 in /Users/jwrenn4/miniforge3/lib/python3.10/site-packages (from tensorboard<2.12,>=2.11->tensorflow->aisquared) (2.16.0)\n",
      "Requirement already satisfied: google-auth-oauthlib<0.5,>=0.4.1 in /Users/jwrenn4/miniforge3/lib/python3.10/site-packages (from tensorboard<2.12,>=2.11->tensorflow->aisquared) (0.4.6)\n",
      "Requirement already satisfied: tensorboard-plugin-wit>=1.6.0 in /Users/jwrenn4/miniforge3/lib/python3.10/site-packages (from tensorboard<2.12,>=2.11->tensorflow->aisquared) (1.8.1)\n",
      "Requirement already satisfied: markdown>=2.6.8 in /Users/jwrenn4/miniforge3/lib/python3.10/site-packages (from tensorboard<2.12,>=2.11->tensorflow->aisquared) (3.4.1)\n",
      "Requirement already satisfied: werkzeug>=1.0.1 in /Users/jwrenn4/miniforge3/lib/python3.10/site-packages (from tensorboard<2.12,>=2.11->tensorflow->aisquared) (2.2.2)\n",
      "Requirement already satisfied: tensorboard-data-server<0.7.0,>=0.6.0 in /Users/jwrenn4/miniforge3/lib/python3.10/site-packages (from tensorboard<2.12,>=2.11->tensorflow->aisquared) (0.6.1)\n",
      "Requirement already satisfied: requests<3,>=2.21.0 in /Users/jwrenn4/miniforge3/lib/python3.10/site-packages (from tensorboard<2.12,>=2.11->tensorflow->aisquared) (2.28.2)\n",
      "Requirement already satisfied: rsa<5,>=3.1.4 in /Users/jwrenn4/miniforge3/lib/python3.10/site-packages (from google-auth<3,>=1.6.3->tensorboard<2.12,>=2.11->tensorflow->aisquared) (4.9)\n",
      "Requirement already satisfied: pyasn1-modules>=0.2.1 in /Users/jwrenn4/miniforge3/lib/python3.10/site-packages (from google-auth<3,>=1.6.3->tensorboard<2.12,>=2.11->tensorflow->aisquared) (0.2.7)\n",
      "Requirement already satisfied: cachetools<6.0,>=2.0.0 in /Users/jwrenn4/miniforge3/lib/python3.10/site-packages (from google-auth<3,>=1.6.3->tensorboard<2.12,>=2.11->tensorflow->aisquared) (5.3.0)\n",
      "Requirement already satisfied: requests-oauthlib>=0.7.0 in /Users/jwrenn4/miniforge3/lib/python3.10/site-packages (from google-auth-oauthlib<0.5,>=0.4.1->tensorboard<2.12,>=2.11->tensorflow->aisquared) (1.3.1)\n",
      "Requirement already satisfied: certifi>=2017.4.17 in /Users/jwrenn4/miniforge3/lib/python3.10/site-packages (from requests<3,>=2.21.0->tensorboard<2.12,>=2.11->tensorflow->aisquared) (2022.12.7)\n",
      "Requirement already satisfied: charset-normalizer<4,>=2 in /Users/jwrenn4/miniforge3/lib/python3.10/site-packages (from requests<3,>=2.21.0->tensorboard<2.12,>=2.11->tensorflow->aisquared) (2.1.1)\n",
      "Requirement already satisfied: urllib3<1.27,>=1.21.1 in /Users/jwrenn4/miniforge3/lib/python3.10/site-packages (from requests<3,>=2.21.0->tensorboard<2.12,>=2.11->tensorflow->aisquared) (1.26.14)\n",
      "Requirement already satisfied: idna<4,>=2.5 in /Users/jwrenn4/miniforge3/lib/python3.10/site-packages (from requests<3,>=2.21.0->tensorboard<2.12,>=2.11->tensorflow->aisquared) (3.4)\n",
      "Requirement already satisfied: MarkupSafe>=2.1.1 in /Users/jwrenn4/miniforge3/lib/python3.10/site-packages (from werkzeug>=1.0.1->tensorboard<2.12,>=2.11->tensorflow->aisquared) (2.1.2)\n",
      "Requirement already satisfied: pyasn1<0.5.0,>=0.4.6 in /Users/jwrenn4/miniforge3/lib/python3.10/site-packages (from pyasn1-modules>=0.2.1->google-auth<3,>=1.6.3->tensorboard<2.12,>=2.11->tensorflow->aisquared) (0.4.8)\n",
      "Requirement already satisfied: oauthlib>=3.0.0 in /Users/jwrenn4/miniforge3/lib/python3.10/site-packages (from requests-oauthlib>=0.7.0->google-auth-oauthlib<0.5,>=0.4.1->tensorboard<2.12,>=2.11->tensorflow->aisquared) (3.2.2)\n",
      "Requirement already satisfied: beyondml in /Users/jwrenn4/miniforge3/lib/python3.10/site-packages (0.1.4)\n",
      "Requirement already satisfied: tensorflow>=2.4 in /Users/jwrenn4/miniforge3/lib/python3.10/site-packages (from beyondml) (2.11.0)\n",
      "Requirement already satisfied: torch in /Users/jwrenn4/miniforge3/lib/python3.10/site-packages (from beyondml) (1.13.1)\n",
      "Requirement already satisfied: setuptools in /Users/jwrenn4/miniforge3/lib/python3.10/site-packages (from tensorflow>=2.4->beyondml) (66.1.1)\n",
      "Requirement already satisfied: tensorflow-estimator<2.12,>=2.11.0 in /Users/jwrenn4/miniforge3/lib/python3.10/site-packages (from tensorflow>=2.4->beyondml) (2.11.0)\n",
      "Requirement already satisfied: termcolor>=1.1.0 in /Users/jwrenn4/miniforge3/lib/python3.10/site-packages (from tensorflow>=2.4->beyondml) (2.2.0)\n",
      "Requirement already satisfied: google-pasta>=0.1.1 in /Users/jwrenn4/miniforge3/lib/python3.10/site-packages (from tensorflow>=2.4->beyondml) (0.2.0)\n",
      "Requirement already satisfied: keras<2.12,>=2.11.0 in /Users/jwrenn4/miniforge3/lib/python3.10/site-packages (from tensorflow>=2.4->beyondml) (2.11.0)\n",
      "Requirement already satisfied: h5py>=2.9.0 in /Users/jwrenn4/miniforge3/lib/python3.10/site-packages (from tensorflow>=2.4->beyondml) (3.8.0)\n",
      "Requirement already satisfied: tensorboard<2.12,>=2.11 in /Users/jwrenn4/miniforge3/lib/python3.10/site-packages (from tensorflow>=2.4->beyondml) (2.11.2)\n",
      "Requirement already satisfied: gast<=0.4.0,>=0.2.1 in /Users/jwrenn4/miniforge3/lib/python3.10/site-packages (from tensorflow>=2.4->beyondml) (0.4.0)\n",
      "Requirement already satisfied: opt-einsum>=2.3.2 in /Users/jwrenn4/miniforge3/lib/python3.10/site-packages (from tensorflow>=2.4->beyondml) (3.3.0)\n",
      "Requirement already satisfied: wrapt>=1.11.0 in /Users/jwrenn4/miniforge3/lib/python3.10/site-packages (from tensorflow>=2.4->beyondml) (1.14.1)\n",
      "Requirement already satisfied: numpy>=1.20 in /Users/jwrenn4/miniforge3/lib/python3.10/site-packages (from tensorflow>=2.4->beyondml) (1.23.4)\n",
      "Requirement already satisfied: packaging in /Users/jwrenn4/miniforge3/lib/python3.10/site-packages (from tensorflow>=2.4->beyondml) (23.0)\n",
      "Requirement already satisfied: grpcio<2.0,>=1.24.3 in /Users/jwrenn4/miniforge3/lib/python3.10/site-packages (from tensorflow>=2.4->beyondml) (1.51.1)\n",
      "Requirement already satisfied: flatbuffers>=2.0 in /Users/jwrenn4/miniforge3/lib/python3.10/site-packages (from tensorflow>=2.4->beyondml) (23.1.21)\n",
      "Requirement already satisfied: astunparse>=1.6.0 in /Users/jwrenn4/miniforge3/lib/python3.10/site-packages (from tensorflow>=2.4->beyondml) (1.6.3)\n",
      "Requirement already satisfied: absl-py>=1.0.0 in /Users/jwrenn4/miniforge3/lib/python3.10/site-packages (from tensorflow>=2.4->beyondml) (1.4.0)\n",
      "Requirement already satisfied: typing-extensions>=3.6.6 in /Users/jwrenn4/miniforge3/lib/python3.10/site-packages (from tensorflow>=2.4->beyondml) (4.4.0)\n",
      "Requirement already satisfied: six>=1.12.0 in /Users/jwrenn4/miniforge3/lib/python3.10/site-packages (from tensorflow>=2.4->beyondml) (1.16.0)\n",
      "Requirement already satisfied: protobuf>=3.9.2 in /Users/jwrenn4/miniforge3/lib/python3.10/site-packages (from tensorflow>=2.4->beyondml) (3.20.3)\n",
      "Requirement already satisfied: wheel<1.0,>=0.23.0 in /Users/jwrenn4/miniforge3/lib/python3.10/site-packages (from astunparse>=1.6.0->tensorflow>=2.4->beyondml) (0.38.4)\n"
     ]
    },
    {
     "name": "stdout",
     "output_type": "stream",
     "text": [
      "Requirement already satisfied: tensorboard-data-server<0.7.0,>=0.6.0 in /Users/jwrenn4/miniforge3/lib/python3.10/site-packages (from tensorboard<2.12,>=2.11->tensorflow>=2.4->beyondml) (0.6.1)\n",
      "Requirement already satisfied: tensorboard-plugin-wit>=1.6.0 in /Users/jwrenn4/miniforge3/lib/python3.10/site-packages (from tensorboard<2.12,>=2.11->tensorflow>=2.4->beyondml) (1.8.1)\n",
      "Requirement already satisfied: werkzeug>=1.0.1 in /Users/jwrenn4/miniforge3/lib/python3.10/site-packages (from tensorboard<2.12,>=2.11->tensorflow>=2.4->beyondml) (2.2.2)\n",
      "Requirement already satisfied: markdown>=2.6.8 in /Users/jwrenn4/miniforge3/lib/python3.10/site-packages (from tensorboard<2.12,>=2.11->tensorflow>=2.4->beyondml) (3.4.1)\n",
      "Requirement already satisfied: google-auth-oauthlib<0.5,>=0.4.1 in /Users/jwrenn4/miniforge3/lib/python3.10/site-packages (from tensorboard<2.12,>=2.11->tensorflow>=2.4->beyondml) (0.4.6)\n",
      "Requirement already satisfied: requests<3,>=2.21.0 in /Users/jwrenn4/miniforge3/lib/python3.10/site-packages (from tensorboard<2.12,>=2.11->tensorflow>=2.4->beyondml) (2.28.2)\n",
      "Requirement already satisfied: google-auth<3,>=1.6.3 in /Users/jwrenn4/miniforge3/lib/python3.10/site-packages (from tensorboard<2.12,>=2.11->tensorflow>=2.4->beyondml) (2.16.0)\n",
      "Requirement already satisfied: pyasn1-modules>=0.2.1 in /Users/jwrenn4/miniforge3/lib/python3.10/site-packages (from google-auth<3,>=1.6.3->tensorboard<2.12,>=2.11->tensorflow>=2.4->beyondml) (0.2.7)\n",
      "Requirement already satisfied: rsa<5,>=3.1.4 in /Users/jwrenn4/miniforge3/lib/python3.10/site-packages (from google-auth<3,>=1.6.3->tensorboard<2.12,>=2.11->tensorflow>=2.4->beyondml) (4.9)\n",
      "Requirement already satisfied: cachetools<6.0,>=2.0.0 in /Users/jwrenn4/miniforge3/lib/python3.10/site-packages (from google-auth<3,>=1.6.3->tensorboard<2.12,>=2.11->tensorflow>=2.4->beyondml) (5.3.0)\n",
      "Requirement already satisfied: requests-oauthlib>=0.7.0 in /Users/jwrenn4/miniforge3/lib/python3.10/site-packages (from google-auth-oauthlib<0.5,>=0.4.1->tensorboard<2.12,>=2.11->tensorflow>=2.4->beyondml) (1.3.1)\n",
      "Requirement already satisfied: charset-normalizer<4,>=2 in /Users/jwrenn4/miniforge3/lib/python3.10/site-packages (from requests<3,>=2.21.0->tensorboard<2.12,>=2.11->tensorflow>=2.4->beyondml) (2.1.1)\n",
      "Requirement already satisfied: idna<4,>=2.5 in /Users/jwrenn4/miniforge3/lib/python3.10/site-packages (from requests<3,>=2.21.0->tensorboard<2.12,>=2.11->tensorflow>=2.4->beyondml) (3.4)\n",
      "Requirement already satisfied: urllib3<1.27,>=1.21.1 in /Users/jwrenn4/miniforge3/lib/python3.10/site-packages (from requests<3,>=2.21.0->tensorboard<2.12,>=2.11->tensorflow>=2.4->beyondml) (1.26.14)\n",
      "Requirement already satisfied: certifi>=2017.4.17 in /Users/jwrenn4/miniforge3/lib/python3.10/site-packages (from requests<3,>=2.21.0->tensorboard<2.12,>=2.11->tensorflow>=2.4->beyondml) (2022.12.7)\n",
      "Requirement already satisfied: MarkupSafe>=2.1.1 in /Users/jwrenn4/miniforge3/lib/python3.10/site-packages (from werkzeug>=1.0.1->tensorboard<2.12,>=2.11->tensorflow>=2.4->beyondml) (2.1.2)\n",
      "Requirement already satisfied: pyasn1<0.5.0,>=0.4.6 in /Users/jwrenn4/miniforge3/lib/python3.10/site-packages (from pyasn1-modules>=0.2.1->google-auth<3,>=1.6.3->tensorboard<2.12,>=2.11->tensorflow>=2.4->beyondml) (0.4.8)\n",
      "Requirement already satisfied: oauthlib>=3.0.0 in /Users/jwrenn4/miniforge3/lib/python3.10/site-packages (from requests-oauthlib>=0.7.0->google-auth-oauthlib<0.5,>=0.4.1->tensorboard<2.12,>=2.11->tensorflow>=2.4->beyondml) (3.2.2)\n"
     ]
    }
   ],
   "source": [
    "! pip install aisquared\n",
    "! pip install beyondml"
   ]
  },
  {
   "cell_type": "code",
   "execution_count": 2,
   "id": "f5946041",
   "metadata": {},
   "outputs": [],
   "source": [
    "import tensorflow as tf\n",
    "from beyondml import tflow\n",
    "import aisquared\n",
    "import numpy as np\n",
    "from sklearn.metrics import classification_report, confusion_matrix"
   ]
  },
  {
   "cell_type": "code",
   "execution_count": 3,
   "id": "a3dcc047",
   "metadata": {},
   "outputs": [],
   "source": [
    "(x_train, y_train), (x_test, y_test) = tf.keras.datasets.cifar10.load_data()\n",
    "\n",
    "x_train = x_train/255\n",
    "x_test = x_test/255"
   ]
  },
  {
   "cell_type": "code",
   "execution_count": 4,
   "id": "3007237c",
   "metadata": {},
   "outputs": [],
   "source": [
    "input_layer = tf.keras.layers.Input(x_train.shape[1:])\n",
    "x = tflow.layers.MaskedConv2D(16, activation = 'relu', padding = 'same')(input_layer)\n",
    "x = tf.keras.layers.BatchNormalization()(x)\n",
    "x = tflow.layers.MaskedConv2D(16, activation = 'relu', padding = 'same')(x)\n",
    "x = tf.keras.layers.BatchNormalization()(x)\n",
    "x = tf.keras.layers.MaxPool2D()(x)\n",
    "x = tflow.layers.MaskedConv2D(32, activation = 'relu', padding = 'same')(x)\n",
    "x = tf.keras.layers.BatchNormalization()(x)\n",
    "x = tflow.layers.MaskedConv2D(32, activation = 'relu', padding = 'same')(x)\n",
    "x = tf.keras.layers.BatchNormalization()(x)\n",
    "x = tf.keras.layers.MaxPool2D()(x)\n",
    "x = tflow.layers.MaskedConv2D(64, activation = 'relu', padding = 'same')(x)\n",
    "x = tf.keras.layers.BatchNormalization()(x)\n",
    "x = tflow.layers.MaskedConv2D(64, activation = 'relu', padding = 'same')(x)\n",
    "x = tf.keras.layers.BatchNormalization()(x)\n",
    "x = tf.keras.layers.MaxPool2D()(x)\n",
    "x = tf.keras.layers.Flatten()(x)\n",
    "x = tflow.layers.MaskedDense(128, activation = 'relu')(x)\n",
    "output_layer = tflow.layers.MaskedDense(10, activation = 'softmax')(x)\n",
    "\n",
    "model = tf.keras.models.Model(input_layer, output_layer)\n",
    "\n",
    "model.compile(loss = 'sparse_categorical_crossentropy', metrics = ['accuracy'], optimizer = 'adam')\n",
    "model = tflow.utils.mask_model(\n",
    "    model,\n",
    "    percentile = 75,\n",
    "    x = x_train[:1000],\n",
    "    y = y_train[:1000].reshape(-1, 1)\n",
    ")\n",
    "model.compile(loss = 'sparse_categorical_crossentropy', metrics = ['accuracy'], optimizer = 'adam')"
   ]
  },
  {
   "cell_type": "code",
   "execution_count": 5,
   "id": "d696bc8e",
   "metadata": {},
   "outputs": [
    {
     "name": "stdout",
     "output_type": "stream",
     "text": [
      "Model: \"model\"\n",
      "_________________________________________________________________\n",
      " Layer (type)                Output Shape              Param #   \n",
      "=================================================================\n",
      " input_1 (InputLayer)        [(None, 32, 32, 3)]       0         \n",
      "                                                                 \n",
      " masked_conv2d (MaskedConv2D  (None, 32, 32, 16)       896       \n",
      " )                                                               \n",
      "                                                                 \n",
      " batch_normalization (BatchN  (None, 32, 32, 16)       64        \n",
      " ormalization)                                                   \n",
      "                                                                 \n",
      " masked_conv2d_1 (MaskedConv  (None, 32, 32, 16)       4640      \n",
      " 2D)                                                             \n",
      "                                                                 \n",
      " batch_normalization_1 (Batc  (None, 32, 32, 16)       64        \n",
      " hNormalization)                                                 \n",
      "                                                                 \n",
      " max_pooling2d (MaxPooling2D  (None, 16, 16, 16)       0         \n",
      " )                                                               \n",
      "                                                                 \n",
      " masked_conv2d_2 (MaskedConv  (None, 16, 16, 32)       9280      \n",
      " 2D)                                                             \n",
      "                                                                 \n",
      " batch_normalization_2 (Batc  (None, 16, 16, 32)       128       \n",
      " hNormalization)                                                 \n",
      "                                                                 \n",
      " masked_conv2d_3 (MaskedConv  (None, 16, 16, 32)       18496     \n",
      " 2D)                                                             \n",
      "                                                                 \n",
      " batch_normalization_3 (Batc  (None, 16, 16, 32)       128       \n",
      " hNormalization)                                                 \n",
      "                                                                 \n",
      " max_pooling2d_1 (MaxPooling  (None, 8, 8, 32)         0         \n",
      " 2D)                                                             \n",
      "                                                                 \n",
      " masked_conv2d_4 (MaskedConv  (None, 8, 8, 64)         36992     \n",
      " 2D)                                                             \n",
      "                                                                 \n",
      " batch_normalization_4 (Batc  (None, 8, 8, 64)         256       \n",
      " hNormalization)                                                 \n",
      "                                                                 \n",
      " masked_conv2d_5 (MaskedConv  (None, 8, 8, 64)         73856     \n",
      " 2D)                                                             \n",
      "                                                                 \n",
      " batch_normalization_5 (Batc  (None, 8, 8, 64)         256       \n",
      " hNormalization)                                                 \n",
      "                                                                 \n",
      " max_pooling2d_2 (MaxPooling  (None, 4, 4, 64)         0         \n",
      " 2D)                                                             \n",
      "                                                                 \n",
      " flatten (Flatten)           (None, 1024)              0         \n",
      "                                                                 \n",
      " masked_dense (MaskedDense)  (None, 128)               262400    \n",
      "                                                                 \n",
      " masked_dense_1 (MaskedDense  (None, 10)               2580      \n",
      " )                                                               \n",
      "                                                                 \n",
      "=================================================================\n",
      "Total params: 410,036\n",
      "Trainable params: 205,018\n",
      "Non-trainable params: 205,018\n",
      "_________________________________________________________________\n"
     ]
    }
   ],
   "source": [
    "model.summary()"
   ]
  },
  {
   "cell_type": "code",
   "execution_count": null,
   "id": "fc6c2c5d",
   "metadata": {},
   "outputs": [
    {
     "name": "stdout",
     "output_type": "stream",
     "text": [
      "Epoch 1/10\n"
     ]
    },
    {
     "name": "stderr",
     "output_type": "stream",
     "text": [
      "2023-01-25 08:29:59.357870: W tensorflow/tsl/platform/profile_utils/cpu_utils.cc:128] Failed to get CPU frequency: 0 Hz\n"
     ]
    },
    {
     "name": "stdout",
     "output_type": "stream",
     "text": [
      "157/157 [==============================] - 43s 261ms/step - loss: 1.5812 - accuracy: 0.4273 - val_loss: 2.7896 - val_accuracy: 0.0997\n",
      "Epoch 2/10\n",
      "157/157 [==============================] - 41s 262ms/step - loss: 1.1800 - accuracy: 0.5784 - val_loss: 3.4930 - val_accuracy: 0.0952\n",
      "Epoch 3/10\n",
      "157/157 [==============================] - 42s 265ms/step - loss: 1.0113 - accuracy: 0.6413 - val_loss: 2.7168 - val_accuracy: 0.2871\n",
      "Epoch 4/10\n",
      " 41/157 [======>.......................] - ETA: 28s - loss: 0.9206 - accuracy: 0.6731"
     ]
    }
   ],
   "source": [
    "model.fit(\n",
    "    x_train,\n",
    "    y_train,\n",
    "    validation_split = 0.2,\n",
    "    batch_size = 256,\n",
    "    epochs = 10,\n",
    "    callbacks = tf.keras.callbacks.EarlyStopping(min_delta = 0.004, patience=2, restore_best_weights = True))"
   ]
  },
  {
   "cell_type": "code",
   "execution_count": null,
   "id": "67af4645",
   "metadata": {},
   "outputs": [],
   "source": [
    "preds = model.predict(x_test).argmax(axis = 1)\n",
    "print(confusion_matrix(y_test, model.predict(x_test).argmax(axis = 1)))\n",
    "print(classification_report(y_test, model.predict(x_test).argmax(axis = 1)))"
   ]
  }
 ],
 "metadata": {
  "kernelspec": {
   "display_name": "Python 3 (ipykernel)",
   "language": "python",
   "name": "python3"
  },
  "language_info": {
   "codemirror_mode": {
    "name": "ipython",
    "version": 3
   },
   "file_extension": ".py",
   "mimetype": "text/x-python",
   "name": "python",
   "nbconvert_exporter": "python",
   "pygments_lexer": "ipython3",
   "version": "3.10.8"
  }
 },
 "nbformat": 4,
 "nbformat_minor": 5
}
