{
 "cells": [
  {
   "cell_type": "markdown",
   "metadata": {},
   "source": [
    "# Integrating an ONNX Model\n",
    "\n",
    "This notebook shows how to create an integration using a scikit-learn model that is converted to ONNX"
   ]
  },
  {
   "cell_type": "code",
   "execution_count": null,
   "metadata": {},
   "outputs": [],
   "source": [
    "# Import required packages\n",
    "\n",
    "from sklearn.feature_extraction.text import TfidfVectorizer\n",
    "from sklearn.tree import DecisionTreeClassifier\n",
    "from sklearn.datasets import fetch_20newsgroups\n",
    "from sklearn.pipeline import Pipeline\n",
    "import onnxruntime as ort\n",
    "import numpy as np\n",
    "import skl2onnx\n",
    "\n",
    "import aisquared"
   ]
  },
  {
   "cell_type": "code",
   "execution_count": null,
   "metadata": {},
   "outputs": [],
   "source": [
    "# Load the data\n",
    "\n",
    "data = np.array(fetch_20newsgroups()['data'])\n",
    "target = fetch_20newsgroups()['target']\n",
    "target_names = fetch_20newsgroups()['target_names']\n",
    "\n",
    "true_targets = []\n",
    "for i in range(target.shape[0]):\n",
    "    true_targets.append(target_names[target[i]])\n",
    "true_targets = np.array(true_targets)"
   ]
  },
  {
   "cell_type": "code",
   "execution_count": null,
   "metadata": {},
   "outputs": [],
   "source": [
    "# Build the model\n",
    "pipeline = Pipeline(\n",
    "    [\n",
    "        ('vectorizer', TfidfVectorizer(stop_words = 'english', max_df = 0.8, min_df = 5)),\n",
    "        ('clf', DecisionTreeClassifier(max_depth = 10))\n",
    "    ]\n",
    ")\n",
    "\n",
    "# Fit the model\n",
    "pipeline.fit(data, true_targets)\n",
    "print(pipeline.predict(data))"
   ]
  },
  {
   "cell_type": "code",
   "execution_count": null,
   "metadata": {},
   "outputs": [],
   "source": [
    "# Convert the model to ONNX\n",
    "onnx_pipeline = skl2onnx.to_onnx(\n",
    "    pipeline,\n",
    "    data,\n",
    "    options = {'zipmap' : False}\n",
    ")\n",
    "\n",
    "with open('classifier.onnx', 'wb') as f:\n",
    "    f.write(onnx_pipeline.SerializeToString())"
   ]
  },
  {
   "cell_type": "code",
   "execution_count": null,
   "metadata": {},
   "outputs": [],
   "source": [
    "# Run the onnx model\n",
    "sess = ort.InferenceSession('classifier.onnx')\n",
    "print(sess.run(None, {'X' : data}))"
   ]
  },
  {
   "cell_type": "code",
   "execution_count": null,
   "metadata": {},
   "outputs": [],
   "source": [
    "# Create the .air file\n",
    "\n",
    "harvester = aisquared.config.harvesting.ChatbotHarvester('ONNX Text Classifier')\n",
    "preprocesser = None\n",
    "analytic = aisquared.config.analytic.OnnxModel('classifier.onnx', [1], output_key = 'label', return_key = 'predicted_class')\n",
    "postprocesser = None\n",
    "renderer = aisquared.config.rendering.ChatRendering('predicted_class', responder_name = 'ONNX Classifier')\n",
    "\n",
    "config = aisquared.config.ModelConfiguration(\n",
    "    'Example ONNX Text Classifier',\n",
    "    harvester,\n",
    "    preprocesser,\n",
    "    analytic,\n",
    "    postprocesser,\n",
    "    renderer\n",
    ")\n",
    "config.compile()"
   ]
  }
 ],
 "metadata": {
  "kernelspec": {
   "display_name": "base",
   "language": "python",
   "name": "python3"
  },
  "language_info": {
   "codemirror_mode": {
    "name": "ipython",
    "version": 3
   },
   "file_extension": ".py",
   "mimetype": "text/x-python",
   "name": "python",
   "nbconvert_exporter": "python",
   "pygments_lexer": "ipython3",
   "version": "3.9.7"
  }
 },
 "nbformat": 4,
 "nbformat_minor": 2
}
