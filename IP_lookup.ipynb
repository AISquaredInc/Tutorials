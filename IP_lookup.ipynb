{
 "cells": [
  {
   "cell_type": "code",
   "execution_count": 1,
   "id": "d6040764-48b7-42d4-91d1-6098e01595f9",
   "metadata": {},
   "outputs": [],
   "source": [
    "import aisquared\n",
    "import json"
   ]
  },
  {
   "cell_type": "code",
   "execution_count": 2,
   "id": "01d5e303-ab39-4c6a-99d2-58a76e8983ac",
   "metadata": {},
   "outputs": [],
   "source": [
    "# Configure the example results\n",
    "\n",
    "results = {\n",
    "    '111.111.11.11' : {\n",
    "        'name' : 'John Doe',\n",
    "        'userID' : 11111\n",
    "    },\n",
    "    '222.222.22.22' : {\n",
    "        'name' : 'Jane Doe',\n",
    "        'userID' : 22222\n",
    "    },\n",
    "    '333.333.33.33' : {\n",
    "        'name' : 'Alice Doe',\n",
    "        'UserID' : 33333\n",
    "    }\n",
    "}\n",
    "\n",
    "# Save the analytic as a JSON file\n",
    "file_name = 'analytic.json'\n",
    "with open(file_name, 'w') as f:\n",
    "    json.dump(results, f)"
   ]
  },
  {
   "cell_type": "code",
   "execution_count": 3,
   "id": "a1117df2-bea2-469a-aa86-601e112ac706",
   "metadata": {},
   "outputs": [],
   "source": [
    "# For harvesting, we need to harvest using a regular expression\n",
    "# that identifies possible IP addresses numbers. The following lines of \n",
    "# code configure such harvesting\n",
    "\n",
    "regex = '(25[0-5]|2[0-4][0-9]|[01]?[0-9][0-9]?)\\.(25[0-5]|2[0-4][0-9]|[01]?[0-9][0-9]?)\\.(25[0-5]|2[0-4][0-9]|[01]?[0-9][0-9]?)\\.(25[0-5]|2[0-4][0-9]|[01]?[0-9][0-9]?)'\n",
    "harvester = aisquared.config.harvesting.TextHarvester(\n",
    "    how = 'regex',\n",
    "    regex = regex\n",
    ")"
   ]
  },
  {
   "cell_type": "code",
   "execution_count": 4,
   "id": "917bd4f0-01e6-4c52-98ab-e4d68312d11f",
   "metadata": {},
   "outputs": [],
   "source": [
    "# The analytic for this configuration is going to be a LocalAnalytic\n",
    "# class, where we pass the saved file to the object\n",
    "\n",
    "analytic = aisquared.config.analytic.LocalAnalytic(file_name, 'text')"
   ]
  },
  {
   "cell_type": "code",
   "execution_count": 5,
   "id": "a1b9fd1c-b559-424a-9186-cc70a772cad9",
   "metadata": {},
   "outputs": [],
   "source": [
    "# No pre and postprocessing steps are needed, so we can set those value to None\n",
    "preprocesser = None\n",
    "postprocesser = None"
   ]
  },
  {
   "cell_type": "code",
   "execution_count": 6,
   "id": "efe29b58-a9a3-40e9-a7aa-7f0988ad03af",
   "metadata": {},
   "outputs": [],
   "source": [
    "# To render results, we are going to use the WordRendering class to\n",
    "# initialize the rendering of badges for individual words. By default,\n",
    "# the WordRendering class renders the specific words/tokens that were\n",
    "# input into the analytics\n",
    "\n",
    "renderer = aisquared.config.rendering.WordRendering()"
   ]
  },
  {
   "cell_type": "code",
   "execution_count": 7,
   "id": "6b8b0486-7ee3-4cfd-b701-6cea8c21aa8d",
   "metadata": {},
   "outputs": [],
   "source": [
    "# Finally, we will take the previous objects and put them all \n",
    "# together into a single ModelConfiguration object, which is then \n",
    "# compiled into the .air file\n",
    "\n",
    "config = aisquared.config.ModelConfiguration(\n",
    "    name = 'IPAddressLookup',\n",
    "    harvesting_steps = harvester,\n",
    "    preprocessing_steps = preprocesser,\n",
    "    analytic = analytic,\n",
    "    postprocessing_steps = postprocesser,\n",
    "    rendering_steps = renderer,\n",
    "    version = None,\n",
    "    description = 'IP address lookup which shows name and user ID (if present) for IP addresses found',\n",
    "    mlflow_uri = None,\n",
    "    mlflow_user = None,\n",
    "    mlflow_token = None\n",
    ")\n",
    "\n",
    "# compile to create .air file\n",
    "config.compile()"
   ]
  }
 ],
 "metadata": {
  "kernelspec": {
   "display_name": "Python 3 (ipykernel)",
   "language": "python",
   "name": "python3"
  },
  "language_info": {
   "codemirror_mode": {
    "name": "ipython",
    "version": 3
   },
   "file_extension": ".py",
   "mimetype": "text/x-python",
   "name": "python",
   "nbconvert_exporter": "python",
   "pygments_lexer": "ipython3",
   "version": "3.10.12"
  }
 },
 "nbformat": 4,
 "nbformat_minor": 5
}
