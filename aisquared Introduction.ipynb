{
 "cells": [
  {
   "cell_type": "markdown",
   "id": "c8301ca4",
   "metadata": {},
   "source": [
    "# Introduction to the `aisquared` Python Package\n",
    "\n",
    "The purpose of this notebook is to introduce the user to the `aisquared` Python package. In total, this notebook will go over the following:\n",
    "\n",
    "1. Package installation\n",
    "2. Basics of using the package to interact with the AI Squared Platform\n",
    "3. An overview of the various subpackages included with the `aisquared` package\n",
    "4. Using the package to create your first .air file and uploading the file to the platform"
   ]
  },
  {
   "cell_type": "markdown",
   "id": "c0eb04d7",
   "metadata": {},
   "source": [
    "## Installing `aisquared`\n",
    "\n",
    "First off, let's install the `aisquared` package! The package is hosted on `PyPI`, so we can directly install it from there using the following code:"
   ]
  },
  {
   "cell_type": "code",
   "execution_count": null,
   "id": "656fd29a",
   "metadata": {},
   "outputs": [],
   "source": [
    "! pip install aisquared"
   ]
  },
  {
   "cell_type": "markdown",
   "id": "cd2997b3",
   "metadata": {},
   "source": [
    "## Importing `aisquared`\n",
    "\n",
    "Now that we've installed the package, let's go ahead and import it!"
   ]
  },
  {
   "cell_type": "code",
   "execution_count": null,
   "id": "dde4fdae",
   "metadata": {},
   "outputs": [],
   "source": [
    "import aisquared"
   ]
  },
  {
   "cell_type": "markdown",
   "id": "e08ed0f5",
   "metadata": {},
   "source": [
    "## Connecting the package to the AI Squared Platform\n",
    "\n",
    "Now that we have successfully installed and imported the `aisquared` package, let's connect the package's `AISquaredPlatformClient` to the platform.  For this, you are going to need the following information:\n",
    "\n",
    "1. The URL of the platform's API node\n",
    "2. Your username for the platform\n",
    "3. Your password\n",
    "\n",
    "Let's see how this works, using the `aisquared.platform.AISquaredPlatformClient` and its associated `login()` method. Running the function starts an interactive session that allows you to input the information outlined above, so it's okay to not include any arguments to the function call."
   ]
  },
  {
   "cell_type": "code",
   "execution_count": null,
   "id": "598fabcb",
   "metadata": {},
   "outputs": [],
   "source": [
    "# Create our client\n",
    "client = aisquared.platform.AISquaredPlatformClient()\n",
    "\n",
    "# Run the client.login() method\n",
    "client.login()\n",
    "\n",
    "# Now test whether the client can successfully connect to the platform\n",
    "client.test_connection()"
   ]
  },
  {
   "cell_type": "markdown",
   "id": "bbf0acb6",
   "metadata": {},
   "source": [
    "## Using the Platform Client to View Models and Users in the Platform\n",
    "\n",
    "Now that we've successfully connected to the platform using the platform client, we can do a lot of things with the object!  Let's start by simply listing the `.air` files we have available to us and also listing all of the other users of the platform!\n",
    "\n",
    "By default, each of these functions returns a Pandas DataFrame object, so using the results is as simple as manipulating a DataFrame!"
   ]
  },
  {
   "cell_type": "code",
   "execution_count": null,
   "id": "91585877",
   "metadata": {},
   "outputs": [],
   "source": [
    "# List models available\n",
    "client.list_models()"
   ]
  },
  {
   "cell_type": "code",
   "execution_count": null,
   "id": "847c1b70",
   "metadata": {},
   "outputs": [],
   "source": [
    "# List users available in the platform\n",
    "client.list_users()"
   ]
  },
  {
   "cell_type": "markdown",
   "id": "917f6a82",
   "metadata": {},
   "source": [
    "## Other Functionalilty\n",
    "\n",
    "We have built in a ton of features within the platform client to help empower developers and data scientists as they use the platform. Here is a list of functions supported by the client at this time:\n",
    "\n",
    "1. List users of the platform\n",
    "2. List models available in the platform\n",
    "3. Retrieve an .air file's configuration information\n",
    "4. Delete an .air file\n",
    "5. Retrieve an .air file's ID by name\n",
    "6. Retrieve a user's ID by name\n",
    "7. List groups in the platform\n",
    "8. List users in a group\n",
    "9. List individuals who have access to an .air file\n",
    "10. Share an .air file with users\n",
    "11. Add users to groups\n",
    "12. Remove users from groups\n",
    "13. Unshare an .air file with a user"
   ]
  }
 ],
 "metadata": {
  "kernelspec": {
   "display_name": "Python 3 (ipykernel)",
   "language": "python",
   "name": "python3"
  },
  "language_info": {
   "codemirror_mode": {
    "name": "ipython",
    "version": 3
   },
   "file_extension": ".py",
   "mimetype": "text/x-python",
   "name": "python",
   "nbconvert_exporter": "python",
   "pygments_lexer": "ipython3",
   "version": "3.10.8"
  }
 },
 "nbformat": 4,
 "nbformat_minor": 5
}
