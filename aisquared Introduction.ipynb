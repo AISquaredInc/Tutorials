{
 "cells": [
  {
   "cell_type": "markdown",
   "id": "c8301ca4",
   "metadata": {},
   "source": [
    "# Introduction to the `aisquared` Python Package\n",
    "\n",
    "The purpose of this notebook is to introduce the user to the `aisquared` Python package. In total, this notebook will go over the following:\n",
    "\n",
    "1. Package installation\n",
    "2. Basics of using the package to interact with the AI Squared Platform"
   ]
  },
  {
   "cell_type": "markdown",
   "id": "c0eb04d7",
   "metadata": {},
   "source": [
    "## Installing `aisquared`\n",
    "\n",
    "First off, let's install the `aisquared` package! The package is hosted on `PyPI`, so we can directly install it from there using the following code:"
   ]
  },
  {
   "cell_type": "code",
   "execution_count": null,
   "id": "656fd29a",
   "metadata": {},
   "outputs": [],
   "source": [
    "! pip install aisquared"
   ]
  },
  {
   "cell_type": "markdown",
   "id": "cd2997b3",
   "metadata": {},
   "source": [
    "## Importing `aisquared`\n",
    "\n",
    "Now that we've installed the package, let's go ahead and import it!"
   ]
  },
  {
   "cell_type": "code",
   "execution_count": null,
   "id": "dde4fdae",
   "metadata": {},
   "outputs": [],
   "source": [
    "import aisquared"
   ]
  },
  {
   "cell_type": "markdown",
   "id": "e08ed0f5",
   "metadata": {},
   "source": [
    "## Connecting the package to the AI Squared Platform\n",
    "\n",
    "Now that we have successfully installed and imported the `aisquared` package, let's connect the package's `AISquaredPlatformClient` to the platform.  For this, you are going to need the following information:\n",
    "\n",
    "1. The URL of the platform's API node\n",
    "2. Your username for the platform\n",
    "3. Your password\n",
    "\n",
    "Let's see how this works, using the `aisquared.platform.AISquaredPlatformClient` and its associated `login()` method. Running the function starts an interactive session that allows you to input the information outlined above, so it's okay to not include any arguments to the function call."
   ]
  },
  {
   "cell_type": "code",
   "execution_count": null,
   "id": "598fabcb",
   "metadata": {},
   "outputs": [],
   "source": [
    "# Create our client\n",
    "client = aisquared.platform.AISquaredPlatformClient()\n",
    "\n",
    "# Run the client.login() method\n",
    "client.login()\n",
    "\n",
    "# Now test whether the client can successfully connect to the platform\n",
    "client.test_connection()"
   ]
  },
  {
   "cell_type": "markdown",
   "id": "bbf0acb6",
   "metadata": {},
   "source": [
    "## Using the Platform Client to View Models and Users in the Platform\n",
    "\n",
    "Now that we've successfully connected to the platform using the platform client, we can do a lot of things with the object!  Let's start by simply listing the `.air` files we have available to us and also listing all of the other users of the platform!\n",
    "\n",
    "By default, each of these functions returns a Pandas DataFrame object, so using the results is as simple as manipulating a DataFrame!"
   ]
  },
  {
   "cell_type": "code",
   "execution_count": null,
   "id": "91585877",
   "metadata": {},
   "outputs": [],
   "source": [
    "# List models available\n",
    "client.list_models()"
   ]
  },
  {
   "cell_type": "code",
   "execution_count": null,
   "id": "847c1b70",
   "metadata": {},
   "outputs": [],
   "source": [
    "# List users available in the platform\n",
    "client.list_users()"
   ]
  },
  {
   "cell_type": "markdown",
   "id": "086f7ca6",
   "metadata": {},
   "source": [
    "## Retrieving Model and User IDs by name\n",
    "\n",
    "The AI Squared Platform uses automatically-generated IDs as primary keys for performing operations.  Because these IDs are not user-friendly to remember, we have provided an interface to query for user IDs and model IDs by name.  The cells below show how those functions are used."
   ]
  },
  {
   "cell_type": "code",
   "execution_count": null,
   "id": "f22cf52c",
   "metadata": {},
   "outputs": [],
   "source": [
    "# Query for a specific model\n",
    "model_name = '{input model name here}'\n",
    "model_id = client.get_model_id_by_name(model_name)\n",
    "print(model_id)"
   ]
  },
  {
   "cell_type": "code",
   "execution_count": null,
   "id": "cbb02f27",
   "metadata": {},
   "outputs": [],
   "source": [
    "# Query for a specific user\n",
    "user_name = '{input user name here}'\n",
    "user_id = client.get_user_id_by_name(user_name)\n",
    "print(user_id)"
   ]
  },
  {
   "cell_type": "markdown",
   "id": "cf4ed520",
   "metadata": {},
   "source": [
    "## Retrieving Model Configuration Steps\n",
    "\n",
    "To retrieve a model's configuration steps, we just need to run the `get_model` method with the model's ID"
   ]
  },
  {
   "cell_type": "code",
   "execution_count": null,
   "id": "b7afa8ba",
   "metadata": {},
   "outputs": [],
   "source": [
    "client.get_model(model_id)"
   ]
  },
  {
   "cell_type": "markdown",
   "id": "e06e861c",
   "metadata": {},
   "source": [
    "## Deleting a Model\n",
    "\n",
    "We also have functionality for deleting a model, using a model's ID"
   ]
  },
  {
   "cell_type": "code",
   "execution_count": null,
   "id": "8507ddf8",
   "metadata": {},
   "outputs": [],
   "source": [
    "client.delete_model(model_id)"
   ]
  },
  {
   "cell_type": "markdown",
   "id": "9c3806e4",
   "metadata": {},
   "source": [
    "## Sharing a Model\n",
    "\n",
    "The `AISquaredPlatformClient` allows a user to share a model with another user, like so:"
   ]
  },
  {
   "cell_type": "code",
   "execution_count": null,
   "id": "5cd21a41",
   "metadata": {},
   "outputs": [],
   "source": [
    "client.share_model_with_user(model_id, user_id)"
   ]
  },
  {
   "cell_type": "markdown",
   "id": "abedf9a8",
   "metadata": {},
   "source": [
    "## Groups\n",
    "\n",
    "Part of the capabilities of the AI Squared Platform includes groups.  Groups are made up of individuals who are working on a team toward a common goal.  To make working with the AI Squared Platform easier, we have included functions to work with groups in the `AISquaredPlatformClient`.  Let's go over a few examples of these below."
   ]
  },
  {
   "cell_type": "code",
   "execution_count": null,
   "id": "f2a8a898",
   "metadata": {},
   "outputs": [],
   "source": [
    "# List groups in the platform\n",
    "client.list_groups()"
   ]
  },
  {
   "cell_type": "code",
   "execution_count": null,
   "id": "2c8ba4cf",
   "metadata": {},
   "outputs": [],
   "source": [
    "# List users in a specific group\n",
    "group_id = '{insert group ID here}'\n",
    "client.list_group_users(group_id)"
   ]
  },
  {
   "cell_type": "code",
   "execution_count": null,
   "id": "adbd8a78",
   "metadata": {},
   "outputs": [],
   "source": [
    "# Create a group\n",
    "group_name = '{insert group name here}'\n",
    "role_id = '{get and insert role ID here}'\n",
    "group_id = client.create_group(\n",
    "    group_name,\n",
    "    role_id\n",
    ")\n",
    "\n",
    "print(group_id)"
   ]
  },
  {
   "cell_type": "code",
   "execution_count": null,
   "id": "5d0843f7",
   "metadata": {},
   "outputs": [],
   "source": [
    "# Add users to the new group\n",
    "user_names = ['insert', 'user', 'names', 'here']\n",
    "user_ids = [client.get_user_id_by_name(name) for name in user_names]\n",
    "client.add_users_to_group(group_id, user_ids)"
   ]
  },
  {
   "cell_type": "code",
   "execution_count": null,
   "id": "96ed4d59",
   "metadata": {},
   "outputs": [],
   "source": [
    "# Remove users from the new group\n",
    "client.remove_users_from_group(group_id, user_ids)"
   ]
  },
  {
   "cell_type": "code",
   "execution_count": null,
   "id": "1d1e0cda",
   "metadata": {},
   "outputs": [],
   "source": [
    "# Delete the group we just created for cleanup\n",
    "client.delete_group(group_id)"
   ]
  },
  {
   "cell_type": "markdown",
   "id": "917f6a82",
   "metadata": {},
   "source": [
    "## Other Functionalilty\n",
    "\n",
    "We have built in a ton of features within the platform client to help empower developers and data scientists as they use the platform. Here is a list of some other functionality we support.  We invite you to test out this functionality below.\n",
    "\n",
    "1. List individuals who have access to an .air file\n",
    "2. Share an .air file with users\n",
    "3. Unshare an .air file with a user\n",
    "4. Share an .air file with a group\n",
    "5. Unshare an .air file with a group"
   ]
  }
 ],
 "metadata": {
  "kernelspec": {
   "display_name": "Python 3 (ipykernel)",
   "language": "python",
   "name": "python3"
  },
  "language_info": {
   "codemirror_mode": {
    "name": "ipython",
    "version": 3
   },
   "file_extension": ".py",
   "mimetype": "text/x-python",
   "name": "python",
   "nbconvert_exporter": "python",
   "pygments_lexer": "ipython3",
   "version": "3.10.12"
  },
  "vscode": {
   "interpreter": {
    "hash": "ce06f28078c5ee89615bc93f96b77cd60d44a9e1412956783996ce9d49602585"
   }
  }
 },
 "nbformat": 4,
 "nbformat_minor": 5
}
