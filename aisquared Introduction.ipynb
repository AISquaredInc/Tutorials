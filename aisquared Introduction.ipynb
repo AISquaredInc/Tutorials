{
 "cells": [
  {
   "cell_type": "markdown",
   "id": "c8301ca4",
   "metadata": {},
   "source": [
    "# Introduction to the `aisquared` Python Package\n",
    "\n",
    "The purpose of this notebook is to introduce the user to the `aisquared` Python package. In total, this notebook will go over the following:\n",
    "\n",
    "1. Package installation\n",
    "2. Basics of using the package to interact with the AI Squared Platform\n",
    "3. An overview of the various subpackages included with the `aisquared` package\n",
    "4. Using the package to create your first .air file and uploading the file to the platform"
   ]
  },
  {
   "cell_type": "markdown",
   "id": "c0eb04d7",
   "metadata": {},
   "source": [
    "## Installing `aisquared`\n",
    "\n",
    "First off, let's install the `aisquared` package! The package is hosted on `PyPI`, so we can directly install it from there using the following code:"
   ]
  },
  {
   "cell_type": "code",
   "execution_count": 1,
   "id": "656fd29a",
   "metadata": {},
   "outputs": [
    {
     "name": "stdout",
     "output_type": "stream",
     "text": [
      "Requirement already satisfied: aisquared in /Users/jwrenn4/miniforge3/lib/python3.10/site-packages (0.3.2.dev0)\n",
      "Requirement already satisfied: tensorflow in /Users/jwrenn4/miniforge3/lib/python3.10/site-packages (from aisquared) (2.11.0)\n",
      "Requirement already satisfied: numpy<=1.23.4 in /Users/jwrenn4/miniforge3/lib/python3.10/site-packages (from aisquared) (1.23.4)\n",
      "Requirement already satisfied: pandas in /Users/jwrenn4/miniforge3/lib/python3.10/site-packages (from aisquared) (1.5.3)\n",
      "Requirement already satisfied: tensorflowjs in /Users/jwrenn4/miniforge3/lib/python3.10/site-packages (from aisquared) (3.15.0)\n",
      "Requirement already satisfied: python-dateutil>=2.8.1 in /Users/jwrenn4/miniforge3/lib/python3.10/site-packages (from pandas->aisquared) (2.8.2)\n",
      "Requirement already satisfied: pytz>=2020.1 in /Users/jwrenn4/miniforge3/lib/python3.10/site-packages (from pandas->aisquared) (2022.7.1)\n",
      "Requirement already satisfied: astunparse>=1.6.0 in /Users/jwrenn4/miniforge3/lib/python3.10/site-packages (from tensorflow->aisquared) (1.6.3)\n",
      "Requirement already satisfied: absl-py>=1.0.0 in /Users/jwrenn4/miniforge3/lib/python3.10/site-packages (from tensorflow->aisquared) (1.4.0)\n",
      "Requirement already satisfied: gast<=0.4.0,>=0.2.1 in /Users/jwrenn4/miniforge3/lib/python3.10/site-packages (from tensorflow->aisquared) (0.4.0)\n",
      "Requirement already satisfied: protobuf>=3.9.2 in /Users/jwrenn4/miniforge3/lib/python3.10/site-packages (from tensorflow->aisquared) (3.20.3)\n",
      "Requirement already satisfied: termcolor>=1.1.0 in /Users/jwrenn4/miniforge3/lib/python3.10/site-packages (from tensorflow->aisquared) (2.2.0)\n",
      "Requirement already satisfied: keras<2.12,>=2.11.0 in /Users/jwrenn4/miniforge3/lib/python3.10/site-packages (from tensorflow->aisquared) (2.11.0)\n",
      "Requirement already satisfied: opt-einsum>=2.3.2 in /Users/jwrenn4/miniforge3/lib/python3.10/site-packages (from tensorflow->aisquared) (3.3.0)\n",
      "Requirement already satisfied: h5py>=2.9.0 in /Users/jwrenn4/miniforge3/lib/python3.10/site-packages (from tensorflow->aisquared) (3.8.0)\n",
      "Requirement already satisfied: tensorflow-estimator<2.12,>=2.11.0 in /Users/jwrenn4/miniforge3/lib/python3.10/site-packages (from tensorflow->aisquared) (2.11.0)\n",
      "Requirement already satisfied: google-pasta>=0.1.1 in /Users/jwrenn4/miniforge3/lib/python3.10/site-packages (from tensorflow->aisquared) (0.2.0)\n",
      "Requirement already satisfied: flatbuffers>=2.0 in /Users/jwrenn4/miniforge3/lib/python3.10/site-packages (from tensorflow->aisquared) (23.1.21)\n",
      "Requirement already satisfied: packaging in /Users/jwrenn4/miniforge3/lib/python3.10/site-packages (from tensorflow->aisquared) (23.0)\n",
      "Requirement already satisfied: typing-extensions>=3.6.6 in /Users/jwrenn4/miniforge3/lib/python3.10/site-packages (from tensorflow->aisquared) (4.4.0)\n",
      "Requirement already satisfied: grpcio<2.0,>=1.24.3 in /Users/jwrenn4/miniforge3/lib/python3.10/site-packages (from tensorflow->aisquared) (1.51.1)\n",
      "Requirement already satisfied: six>=1.12.0 in /Users/jwrenn4/miniforge3/lib/python3.10/site-packages (from tensorflow->aisquared) (1.16.0)\n",
      "Requirement already satisfied: tensorboard<2.12,>=2.11 in /Users/jwrenn4/miniforge3/lib/python3.10/site-packages (from tensorflow->aisquared) (2.11.2)\n",
      "Requirement already satisfied: wrapt>=1.11.0 in /Users/jwrenn4/miniforge3/lib/python3.10/site-packages (from tensorflow->aisquared) (1.14.1)\n",
      "Requirement already satisfied: setuptools in /Users/jwrenn4/miniforge3/lib/python3.10/site-packages (from tensorflow->aisquared) (66.1.1)\n",
      "Requirement already satisfied: tensorflow-hub<0.13,>=0.7.0 in /Users/jwrenn4/miniforge3/lib/python3.10/site-packages (from tensorflowjs->aisquared) (0.12.0)\n",
      "Requirement already satisfied: wheel<1.0,>=0.23.0 in /Users/jwrenn4/miniforge3/lib/python3.10/site-packages (from astunparse>=1.6.0->tensorflow->aisquared) (0.38.4)\n",
      "Requirement already satisfied: tensorboard-data-server<0.7.0,>=0.6.0 in /Users/jwrenn4/miniforge3/lib/python3.10/site-packages (from tensorboard<2.12,>=2.11->tensorflow->aisquared) (0.6.1)\n",
      "Requirement already satisfied: tensorboard-plugin-wit>=1.6.0 in /Users/jwrenn4/miniforge3/lib/python3.10/site-packages (from tensorboard<2.12,>=2.11->tensorflow->aisquared) (1.8.1)\n",
      "Requirement already satisfied: werkzeug>=1.0.1 in /Users/jwrenn4/miniforge3/lib/python3.10/site-packages (from tensorboard<2.12,>=2.11->tensorflow->aisquared) (2.2.2)\n",
      "Requirement already satisfied: google-auth<3,>=1.6.3 in /Users/jwrenn4/miniforge3/lib/python3.10/site-packages (from tensorboard<2.12,>=2.11->tensorflow->aisquared) (2.16.0)\n",
      "Requirement already satisfied: google-auth-oauthlib<0.5,>=0.4.1 in /Users/jwrenn4/miniforge3/lib/python3.10/site-packages (from tensorboard<2.12,>=2.11->tensorflow->aisquared) (0.4.6)\n",
      "Requirement already satisfied: markdown>=2.6.8 in /Users/jwrenn4/miniforge3/lib/python3.10/site-packages (from tensorboard<2.12,>=2.11->tensorflow->aisquared) (3.4.1)\n",
      "Requirement already satisfied: requests<3,>=2.21.0 in /Users/jwrenn4/miniforge3/lib/python3.10/site-packages (from tensorboard<2.12,>=2.11->tensorflow->aisquared) (2.28.2)\n",
      "Requirement already satisfied: rsa<5,>=3.1.4 in /Users/jwrenn4/miniforge3/lib/python3.10/site-packages (from google-auth<3,>=1.6.3->tensorboard<2.12,>=2.11->tensorflow->aisquared) (4.9)\n",
      "Requirement already satisfied: pyasn1-modules>=0.2.1 in /Users/jwrenn4/miniforge3/lib/python3.10/site-packages (from google-auth<3,>=1.6.3->tensorboard<2.12,>=2.11->tensorflow->aisquared) (0.2.7)\n",
      "Requirement already satisfied: cachetools<6.0,>=2.0.0 in /Users/jwrenn4/miniforge3/lib/python3.10/site-packages (from google-auth<3,>=1.6.3->tensorboard<2.12,>=2.11->tensorflow->aisquared) (5.3.0)\n",
      "Requirement already satisfied: requests-oauthlib>=0.7.0 in /Users/jwrenn4/miniforge3/lib/python3.10/site-packages (from google-auth-oauthlib<0.5,>=0.4.1->tensorboard<2.12,>=2.11->tensorflow->aisquared) (1.3.1)\n",
      "Requirement already satisfied: idna<4,>=2.5 in /Users/jwrenn4/miniforge3/lib/python3.10/site-packages (from requests<3,>=2.21.0->tensorboard<2.12,>=2.11->tensorflow->aisquared) (3.4)\n",
      "Requirement already satisfied: urllib3<1.27,>=1.21.1 in /Users/jwrenn4/miniforge3/lib/python3.10/site-packages (from requests<3,>=2.21.0->tensorboard<2.12,>=2.11->tensorflow->aisquared) (1.26.14)\n",
      "Requirement already satisfied: charset-normalizer<4,>=2 in /Users/jwrenn4/miniforge3/lib/python3.10/site-packages (from requests<3,>=2.21.0->tensorboard<2.12,>=2.11->tensorflow->aisquared) (2.1.1)\n",
      "Requirement already satisfied: certifi>=2017.4.17 in /Users/jwrenn4/miniforge3/lib/python3.10/site-packages (from requests<3,>=2.21.0->tensorboard<2.12,>=2.11->tensorflow->aisquared) (2022.12.7)\n",
      "Requirement already satisfied: MarkupSafe>=2.1.1 in /Users/jwrenn4/miniforge3/lib/python3.10/site-packages (from werkzeug>=1.0.1->tensorboard<2.12,>=2.11->tensorflow->aisquared) (2.1.2)\n",
      "Requirement already satisfied: pyasn1<0.5.0,>=0.4.6 in /Users/jwrenn4/miniforge3/lib/python3.10/site-packages (from pyasn1-modules>=0.2.1->google-auth<3,>=1.6.3->tensorboard<2.12,>=2.11->tensorflow->aisquared) (0.4.8)\n",
      "Requirement already satisfied: oauthlib>=3.0.0 in /Users/jwrenn4/miniforge3/lib/python3.10/site-packages (from requests-oauthlib>=0.7.0->google-auth-oauthlib<0.5,>=0.4.1->tensorboard<2.12,>=2.11->tensorflow->aisquared) (3.2.2)\n"
     ]
    }
   ],
   "source": [
    "! pip install aisquared"
   ]
  },
  {
   "cell_type": "markdown",
   "id": "cd2997b3",
   "metadata": {},
   "source": [
    "## Importing `aisquared`\n",
    "\n",
    "Now that we've installed the package, let's go ahead and import it!"
   ]
  },
  {
   "cell_type": "code",
   "execution_count": 2,
   "id": "dde4fdae",
   "metadata": {},
   "outputs": [],
   "source": [
    "import aisquared"
   ]
  },
  {
   "cell_type": "markdown",
   "id": "e08ed0f5",
   "metadata": {},
   "source": [
    "## Connecting the package to the AI Squared Platform\n",
    "\n",
    "Now that we have successfully installed and imported the `aisquared` package, let's connect the package's `AISquaredPlatformClient` to the platform.  For this, you are going to need the following information:\n",
    "\n",
    "1. The URL of the platform's API node\n",
    "2. Your username for the platform\n",
    "3. Your password\n",
    "\n",
    "Let's see how this works, using the `aisquared.platform.AISquaredPlatformClient` and its associated `login()` method. Running the function starts an interactive session that allows you to input the information outlined above, so it's okay to not include any arguments to the function call."
   ]
  },
  {
   "cell_type": "code",
   "execution_count": 3,
   "id": "598fabcb",
   "metadata": {},
   "outputs": [
    {
     "name": "stdout",
     "output_type": "stream",
     "text": [
      "Enter URL: http://ec2-3-83-56-207.compute-1.amazonaws.com\n",
      "Enter Username: jacob.renn@squared.ai\n",
      "Enter Password: ········\n",
      "Connection successful\n"
     ]
    },
    {
     "data": {
      "text/plain": [
       "200"
      ]
     },
     "execution_count": 3,
     "metadata": {},
     "output_type": "execute_result"
    }
   ],
   "source": [
    "# Create our client\n",
    "client = aisquared.platform.AISquaredPlatformClient()\n",
    "\n",
    "# Run the client.login() method\n",
    "client.login()\n",
    "\n",
    "# Now test whether the client can successfully connect to the platform\n",
    "client.test_connection()"
   ]
  },
  {
   "cell_type": "markdown",
   "id": "bbf0acb6",
   "metadata": {},
   "source": [
    "## Using the Platform Client to View Models and Users in the Platform\n",
    "\n",
    "Now that we've successfully connected to the platform using the platform client, we can do a lot of things with the object!  Let's start by simply listing the `.air` files we have available to us and also listing all of the other users of the platform!\n",
    "\n",
    "By default, each of these functions returns a Pandas DataFrame object, so using the results is as simple as manipulating a DataFrame!"
   ]
  },
  {
   "cell_type": "code",
   "execution_count": 4,
   "id": "91585877",
   "metadata": {},
   "outputs": [
    {
     "data": {
      "text/html": [
       "<div>\n",
       "<style scoped>\n",
       "    .dataframe tbody tr th:only-of-type {\n",
       "        vertical-align: middle;\n",
       "    }\n",
       "\n",
       "    .dataframe tbody tr th {\n",
       "        vertical-align: top;\n",
       "    }\n",
       "\n",
       "    .dataframe thead th {\n",
       "        text-align: right;\n",
       "    }\n",
       "</style>\n",
       "<table border=\"1\" class=\"dataframe\">\n",
       "  <thead>\n",
       "    <tr style=\"text-align: right;\">\n",
       "      <th></th>\n",
       "      <th>name</th>\n",
       "      <th>id</th>\n",
       "      <th>parentId</th>\n",
       "      <th>rootParentId</th>\n",
       "      <th>ownerId</th>\n",
       "      <th>bIdxOwnerId</th>\n",
       "      <th>config</th>\n",
       "      <th>type</th>\n",
       "      <th>airjsDefault</th>\n",
       "      <th>analytics</th>\n",
       "      <th>createdAt</th>\n",
       "      <th>modifiedAt</th>\n",
       "      <th>etlWarning</th>\n",
       "      <th>active</th>\n",
       "      <th>isOwner</th>\n",
       "    </tr>\n",
       "  </thead>\n",
       "  <tbody>\n",
       "    <tr>\n",
       "      <th>0</th>\n",
       "      <td>SOS Dashboard</td>\n",
       "      <td>79a35eb1-89f2-411b-ab95-00fa362a8dd4</td>\n",
       "      <td>None</td>\n",
       "      <td>None</td>\n",
       "      <td>32333339366634313132633730383363efbcf0fcf204de...</td>\n",
       "      <td>4804d3527e26d19e58c3f4c009b64f8015cb20587dd8e3...</td>\n",
       "      <td>{'params': {'url': '*', 'name': 'SOS Dashboard...</td>\n",
       "      <td>text</td>\n",
       "      <td>False</td>\n",
       "      <td>None</td>\n",
       "      <td>2022-11-02T20:30:27.512Z</td>\n",
       "      <td>2022-11-02T20:30:27.512Z</td>\n",
       "      <td>False</td>\n",
       "      <td>True</td>\n",
       "      <td>False</td>\n",
       "    </tr>\n",
       "    <tr>\n",
       "      <th>1</th>\n",
       "      <td>customer-lookup</td>\n",
       "      <td>4f6a2267-5d62-4027-b965-af0d97627c0d</td>\n",
       "      <td>None</td>\n",
       "      <td>None</td>\n",
       "      <td>3765636436613561656137346566333566b78bffe6efbf...</td>\n",
       "      <td>4804d3527e26d19e58c3f4c009b64f8015cb20587dd8e3...</td>\n",
       "      <td>{'params': {'url': '*', 'name': 'customer-look...</td>\n",
       "      <td>text</td>\n",
       "      <td>False</td>\n",
       "      <td>None</td>\n",
       "      <td>2022-11-15T19:25:07.671Z</td>\n",
       "      <td>2022-11-15T19:25:07.671Z</td>\n",
       "      <td>False</td>\n",
       "      <td>True</td>\n",
       "      <td>False</td>\n",
       "    </tr>\n",
       "  </tbody>\n",
       "</table>\n",
       "</div>"
      ],
      "text/plain": [
       "              name                                    id parentId  \\\n",
       "0    SOS Dashboard  79a35eb1-89f2-411b-ab95-00fa362a8dd4     None   \n",
       "1  customer-lookup  4f6a2267-5d62-4027-b965-af0d97627c0d     None   \n",
       "\n",
       "  rootParentId                                            ownerId  \\\n",
       "0         None  32333339366634313132633730383363efbcf0fcf204de...   \n",
       "1         None  3765636436613561656137346566333566b78bffe6efbf...   \n",
       "\n",
       "                                         bIdxOwnerId  \\\n",
       "0  4804d3527e26d19e58c3f4c009b64f8015cb20587dd8e3...   \n",
       "1  4804d3527e26d19e58c3f4c009b64f8015cb20587dd8e3...   \n",
       "\n",
       "                                              config  type  airjsDefault  \\\n",
       "0  {'params': {'url': '*', 'name': 'SOS Dashboard...  text         False   \n",
       "1  {'params': {'url': '*', 'name': 'customer-look...  text         False   \n",
       "\n",
       "  analytics                 createdAt                modifiedAt  etlWarning  \\\n",
       "0      None  2022-11-02T20:30:27.512Z  2022-11-02T20:30:27.512Z       False   \n",
       "1      None  2022-11-15T19:25:07.671Z  2022-11-15T19:25:07.671Z       False   \n",
       "\n",
       "   active  isOwner  \n",
       "0    True    False  \n",
       "1    True    False  "
      ]
     },
     "execution_count": 4,
     "metadata": {},
     "output_type": "execute_result"
    }
   ],
   "source": [
    "# List models available\n",
    "client.list_models()"
   ]
  },
  {
   "cell_type": "code",
   "execution_count": 5,
   "id": "847c1b70",
   "metadata": {},
   "outputs": [
    {
     "data": {
      "text/html": [
       "<div>\n",
       "<style scoped>\n",
       "    .dataframe tbody tr th:only-of-type {\n",
       "        vertical-align: middle;\n",
       "    }\n",
       "\n",
       "    .dataframe tbody tr th {\n",
       "        vertical-align: top;\n",
       "    }\n",
       "\n",
       "    .dataframe thead th {\n",
       "        text-align: right;\n",
       "    }\n",
       "</style>\n",
       "<table border=\"1\" class=\"dataframe\">\n",
       "  <thead>\n",
       "    <tr style=\"text-align: right;\">\n",
       "      <th></th>\n",
       "      <th>id</th>\n",
       "      <th>displayName</th>\n",
       "      <th>givenName</th>\n",
       "      <th>familyName</th>\n",
       "      <th>initials</th>\n",
       "    </tr>\n",
       "  </thead>\n",
       "  <tbody>\n",
       "    <tr>\n",
       "      <th>0</th>\n",
       "      <td>486235b6-2d97-4e19-a37c-e1464631f9f3</td>\n",
       "      <td>Alexis Blas</td>\n",
       "      <td>Alexis</td>\n",
       "      <td>Blas</td>\n",
       "      <td>AB</td>\n",
       "    </tr>\n",
       "    <tr>\n",
       "      <th>1</th>\n",
       "      <td>59717021-af83-4cbc-b073-f572c533d3c4</td>\n",
       "      <td>Alvin McClerkin</td>\n",
       "      <td>Alvin</td>\n",
       "      <td>McClerkin</td>\n",
       "      <td>AM</td>\n",
       "    </tr>\n",
       "    <tr>\n",
       "      <th>2</th>\n",
       "      <td>9d380d28-a73f-4e35-b58b-a7ba1cf5eb4a</td>\n",
       "      <td>Angelo Bradley</td>\n",
       "      <td>Angelo</td>\n",
       "      <td>Bradley</td>\n",
       "      <td>AB</td>\n",
       "    </tr>\n",
       "    <tr>\n",
       "      <th>3</th>\n",
       "      <td>5a314ce4-622b-4f00-acba-ff0ae4eaed20</td>\n",
       "      <td>Ayen Kuol</td>\n",
       "      <td>Ayen</td>\n",
       "      <td>Kuol</td>\n",
       "      <td>AK</td>\n",
       "    </tr>\n",
       "    <tr>\n",
       "      <th>4</th>\n",
       "      <td>cc22d411-92f2-4b08-abf0-6f833d0b0f4f</td>\n",
       "      <td>Benjamin Harvey</td>\n",
       "      <td>Benjamin</td>\n",
       "      <td>Harvey</td>\n",
       "      <td>BH</td>\n",
       "    </tr>\n",
       "    <tr>\n",
       "      <th>5</th>\n",
       "      <td>af0b81f6-0420-4ff5-b9d2-ba5a44dbbe0f</td>\n",
       "      <td>Brian Landron</td>\n",
       "      <td>Brian</td>\n",
       "      <td>Landron</td>\n",
       "      <td>BL</td>\n",
       "    </tr>\n",
       "    <tr>\n",
       "      <th>6</th>\n",
       "      <td>99b47d7b-a28a-43d2-b2ed-c63c5af7fc79</td>\n",
       "      <td>Dinali Jayawardana</td>\n",
       "      <td>Dinali</td>\n",
       "      <td>Jayawardana</td>\n",
       "      <td>DJ</td>\n",
       "    </tr>\n",
       "    <tr>\n",
       "      <th>7</th>\n",
       "      <td>e6151262-92b1-4dc7-8569-205f5f23b269</td>\n",
       "      <td>Ian Sotnek</td>\n",
       "      <td>Ian</td>\n",
       "      <td>Sotnek</td>\n",
       "      <td>IS</td>\n",
       "    </tr>\n",
       "    <tr>\n",
       "      <th>8</th>\n",
       "      <td>1b970e22-70d0-4d6d-8acc-e69c1df239fc</td>\n",
       "      <td>Jacob Renn</td>\n",
       "      <td>Jacob</td>\n",
       "      <td>Renn</td>\n",
       "      <td>JR</td>\n",
       "    </tr>\n",
       "    <tr>\n",
       "      <th>9</th>\n",
       "      <td>6252f1e0-ee21-45b6-9169-1413ec083d48</td>\n",
       "      <td>John Daly</td>\n",
       "      <td>John</td>\n",
       "      <td>Daly</td>\n",
       "      <td>JD</td>\n",
       "    </tr>\n",
       "    <tr>\n",
       "      <th>10</th>\n",
       "      <td>2a3bcbf8-d672-425a-b9cb-5884103482fb</td>\n",
       "      <td>Lloyd Pierre</td>\n",
       "      <td>Lloyd</td>\n",
       "      <td>Pierre</td>\n",
       "      <td>LP</td>\n",
       "    </tr>\n",
       "    <tr>\n",
       "      <th>11</th>\n",
       "      <td>653da9f0-a0e6-420c-ad36-82ffa589f683</td>\n",
       "      <td>Rafael Oneill</td>\n",
       "      <td>Rafael</td>\n",
       "      <td>Oneill</td>\n",
       "      <td>RO</td>\n",
       "    </tr>\n",
       "  </tbody>\n",
       "</table>\n",
       "</div>"
      ],
      "text/plain": [
       "                                      id         displayName givenName  \\\n",
       "0   486235b6-2d97-4e19-a37c-e1464631f9f3         Alexis Blas    Alexis   \n",
       "1   59717021-af83-4cbc-b073-f572c533d3c4     Alvin McClerkin     Alvin   \n",
       "2   9d380d28-a73f-4e35-b58b-a7ba1cf5eb4a      Angelo Bradley    Angelo   \n",
       "3   5a314ce4-622b-4f00-acba-ff0ae4eaed20           Ayen Kuol      Ayen   \n",
       "4   cc22d411-92f2-4b08-abf0-6f833d0b0f4f     Benjamin Harvey  Benjamin   \n",
       "5   af0b81f6-0420-4ff5-b9d2-ba5a44dbbe0f       Brian Landron     Brian   \n",
       "6   99b47d7b-a28a-43d2-b2ed-c63c5af7fc79  Dinali Jayawardana    Dinali   \n",
       "7   e6151262-92b1-4dc7-8569-205f5f23b269          Ian Sotnek       Ian   \n",
       "8   1b970e22-70d0-4d6d-8acc-e69c1df239fc          Jacob Renn     Jacob   \n",
       "9   6252f1e0-ee21-45b6-9169-1413ec083d48           John Daly      John   \n",
       "10  2a3bcbf8-d672-425a-b9cb-5884103482fb        Lloyd Pierre     Lloyd   \n",
       "11  653da9f0-a0e6-420c-ad36-82ffa589f683       Rafael Oneill    Rafael   \n",
       "\n",
       "     familyName initials  \n",
       "0          Blas       AB  \n",
       "1     McClerkin       AM  \n",
       "2       Bradley       AB  \n",
       "3          Kuol       AK  \n",
       "4        Harvey       BH  \n",
       "5       Landron       BL  \n",
       "6   Jayawardana       DJ  \n",
       "7        Sotnek       IS  \n",
       "8          Renn       JR  \n",
       "9          Daly       JD  \n",
       "10       Pierre       LP  \n",
       "11       Oneill       RO  "
      ]
     },
     "execution_count": 5,
     "metadata": {},
     "output_type": "execute_result"
    }
   ],
   "source": [
    "# List users available in the platform\n",
    "client.list_users()"
   ]
  },
  {
   "cell_type": "markdown",
   "id": "917f6a82",
   "metadata": {},
   "source": [
    "## Other Functionalilty\n",
    "\n",
    "We have built in a ton of features within the platform client to help empower developers and data scientists as they use the platform. Here is a list of functions supported by the client at this time:\n",
    "\n",
    "1. List users of the platform\n",
    "2. List models available in the platform\n",
    "3. Retrieve an .air file's configuration information\n",
    "4. Delete an .air file\n",
    "5. Retrieve an .air file's ID by name\n",
    "6. Retrieve a user's ID by name\n",
    "7. List groups in the platform\n",
    "8. List users in a group\n",
    "9. List individuals who have access to an .air file\n",
    "10. Share an .air file with users\n",
    "11. Add users to groups\n",
    "12. Remove users from groups\n",
    "13. Unshare an .air file with a user"
   ]
  },
  {
   "cell_type": "markdown",
   "id": "9610760d",
   "metadata": {},
   "source": [
    "# Creating your first .air file\n",
    "\n",
    "As part of the `aisquared` Python package, we have included the `.config` package to enable you to develop `.air` files to be used in the platform.  This interface has full parity with the configuration editor within the platform, and it enables you to seamlessly build and deploy integrations without ever leaving your Python environment.  Let's give it a try with a simple example where we want to simply display some results based on a regex identified in the webpage.  For simplicity, we will return the same results for every single hit on the regex.  So let's define what we are going to do:\n",
    "\n",
    "1. Parse the webpage for the word `the` using a regex that looks for that word\n",
    "2. Harvest every instance of the word `the` in the webpage\n",
    "3. For every instance of the word `the`, we are going to underline that word in blue\n",
    "4. When the user clicks on the underlined word, a pop-out widget will appear that will tell the user that this is the most common word in the English language\n",
    "\n",
    "This is a simple use case, but it will get us familiar with how the AI Squared Technology stack works.  Let's define the steps in the following code cell:"
   ]
  },
  {
   "cell_type": "code",
   "execution_count": 6,
   "id": "b07459d3",
   "metadata": {},
   "outputs": [],
   "source": [
    "# First, we need to start with a harvester that looks for a regex in the webpage\n",
    "harvester = aisquared.config.harvesting.TextHarvester(\n",
    "    how = 'regex',\n",
    "    regex = 'the'\n",
    ")\n",
    "\n",
    "# Because we are going to be working directly with the word 'the', we don't need any preprocessing steps here\n",
    "preprocesser = None\n",
    "\n",
    "# Now, let's create the analytic which we are going to use\n",
    "# Because this analytic is going to be shipped inside the .air file, we need to store it as a JSON file\n",
    "import json\n",
    "analytic_dict = {'the' : 'This is the most common word in the English Language.'}\n",
    "\n",
    "with open('simple_analytic.json', 'w') as f:\n",
    "    json.dump(analytic_dict, f)\n",
    "    \n",
    "analytic = aisquared.config.analytic.LocalAnalytic('simple_analytic.json', input_type = 'text', all = True)\n",
    "\n",
    "# We don't need any postprocessing steps for this use case\n",
    "postprocesser = None\n",
    "\n",
    "# For rendering, we are going to create a blue underline for every instance of the word 'the'\n",
    "renderer = aisquared.config.rendering.WordRendering()"
   ]
  },
  {
   "cell_type": "markdown",
   "id": "570bb573",
   "metadata": {},
   "source": [
    "### Compiling the .air file\n",
    "\n",
    "Now that we have the configuration objects created, we can create the .air file using the `ModelConfiguration` class in the `aisquared` package"
   ]
  },
  {
   "cell_type": "code",
   "execution_count": 7,
   "id": "500b9866",
   "metadata": {},
   "outputs": [],
   "source": [
    "# Create the configuration object\n",
    "config = aisquared.config.ModelConfiguration(\n",
    "    name = 'MyFirstAIRFile',\n",
    "    harvesting_steps = harvester,\n",
    "    preprocessing_steps = preprocesser,\n",
    "    analytic = analytic,\n",
    "    postprocessing_steps = postprocesser,\n",
    "    rendering_steps = renderer\n",
    ")\n",
    "\n",
    "# Run the compile method to create the .air file\n",
    "config.compile()"
   ]
  },
  {
   "cell_type": "markdown",
   "id": "5df0ca36",
   "metadata": {},
   "source": [
    "### You Have Successfully Created Your First .air File!\n",
    "\n",
    "Now that the compile method has been run successfully, you have just created your first `.air` file!  Let's list the files in the local directory and see it!"
   ]
  },
  {
   "cell_type": "code",
   "execution_count": 8,
   "id": "0a119743",
   "metadata": {},
   "outputs": [
    {
     "name": "stdout",
     "output_type": "stream",
     "text": [
      "LICENSE                      aisquared Introduction.ipynb\r\n",
      "MyFirstAIRFile.air           simple_analytic.json\r\n",
      "README.md\r\n"
     ]
    }
   ],
   "source": [
    "!ls"
   ]
  },
  {
   "cell_type": "markdown",
   "id": "c3d6d0c7",
   "metadata": {},
   "source": [
    "## Uploading the `.air` File to the Platform\n",
    "\n",
    "Now that you've successfully created your first `.air` file, let's go ahead and upload it into the platform."
   ]
  },
  {
   "cell_type": "code",
   "execution_count": 9,
   "id": "1c7333b8",
   "metadata": {},
   "outputs": [
    {
     "data": {
      "text/plain": [
       "'add87608-06da-4f9c-a42a-24d67a0fcb88'"
      ]
     },
     "execution_count": 9,
     "metadata": {},
     "output_type": "execute_result"
    }
   ],
   "source": [
    "# Simply run the upload_model function and pass the name of the file on disk to upload the .air file to the platform\n",
    "model_id = client.upload_model('MyFirstAIRFile.air')\n",
    "model_id"
   ]
  },
  {
   "cell_type": "markdown",
   "id": "ce611686",
   "metadata": {},
   "source": [
    "## And You're Done\n",
    "\n",
    "Now you're done!  Now you can go test out the `.air` file you created and uploaded in the platform using the AI Squared browser plugin."
   ]
  }
 ],
 "metadata": {
  "kernelspec": {
   "display_name": "Python 3 (ipykernel)",
   "language": "python",
   "name": "python3"
  },
  "language_info": {
   "codemirror_mode": {
    "name": "ipython",
    "version": 3
   },
   "file_extension": ".py",
   "mimetype": "text/x-python",
   "name": "python",
   "nbconvert_exporter": "python",
   "pygments_lexer": "ipython3",
   "version": "3.10.8"
  }
 },
 "nbformat": 4,
 "nbformat_minor": 5
}
