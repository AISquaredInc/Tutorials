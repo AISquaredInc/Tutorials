{
 "cells": [
  {
   "cell_type": "markdown",
   "id": "c8301ca4",
   "metadata": {},
   "source": [
    "# Introduction to the `aisquared` Python Package\n",
    "\n",
    "The purpose of this notebook is to introduce the user to the `aisquared` Python package. In total, this notebook will go over the following:\n",
    "\n",
    "1. Package installation\n",
    "2. Basics of using the package to interact with the AI Squared Platform\n",
    "3. An overview of the various subpackages included with the `aisquared` package\n",
    "4. Using the package to create your first .air file and uploading the file to the platform"
   ]
  },
  {
   "cell_type": "markdown",
   "id": "c0eb04d7",
   "metadata": {},
   "source": [
    "## Installing `aisquared`\n",
    "\n",
    "First off, let's install the `aisquared` package! The package is hosted on `PyPI`, so we can directly install it from there using the following code:"
   ]
  },
  {
   "cell_type": "code",
   "execution_count": null,
   "id": "656fd29a",
   "metadata": {},
   "outputs": [],
   "source": [
    "! pip install aisquared"
   ]
  },
  {
   "cell_type": "markdown",
   "id": "cd2997b3",
   "metadata": {},
   "source": [
    "## Importing `aisquared`\n",
    "\n",
    "Now that we've installed the package, let's go ahead and import it!"
   ]
  },
  {
   "cell_type": "code",
   "execution_count": null,
   "id": "dde4fdae",
   "metadata": {},
   "outputs": [],
   "source": [
    "import aisquared"
   ]
  },
  {
   "cell_type": "markdown",
   "id": "e08ed0f5",
   "metadata": {},
   "source": [
    "## Connecting the package to the AI Squared Platform\n",
    "\n",
    "Now that we have successfully installed and imported the `aisquared` package, let's connect the package's `AISquaredPlatformClient` to the platform.  For this, you are going to need the following information:\n",
    "\n",
    "1. The URL of the platform's API node\n",
    "2. Your username for the platform\n",
    "3. Your password\n",
    "\n",
    "Let's see how this works, using the `aisquared.platform.AISquaredPlatformClient` and its associated `login()` method. Running the function starts an interactive session that allows you to input the information outlined above, so it's okay to not include any arguments to the function call."
   ]
  },
  {
   "cell_type": "code",
   "execution_count": null,
   "id": "598fabcb",
   "metadata": {},
   "outputs": [],
   "source": [
    "# Create our client\n",
    "client = aisquared.platform.AISquaredPlatformClient()\n",
    "\n",
    "# Run the client.login() method\n",
    "client.login()\n",
    "\n",
    "# Now test whether the client can successfully connect to the platform\n",
    "client.test_connection()"
   ]
  },
  {
   "cell_type": "markdown",
   "id": "bbf0acb6",
   "metadata": {},
   "source": [
    "## Using the Platform Client to View Models and Users in the Platform\n",
    "\n",
    "Now that we've successfully connected to the platform using the platform client, we can do a lot of things with the object!  Let's start by simply listing the `.air` files we have available to us and also listing all of the other users of the platform!\n",
    "\n",
    "By default, each of these functions returns a Pandas DataFrame object, so using the results is as simple as manipulating a DataFrame!"
   ]
  },
  {
   "cell_type": "code",
   "execution_count": null,
   "id": "91585877",
   "metadata": {},
   "outputs": [],
   "source": [
    "# List models available\n",
    "client.list_models()"
   ]
  },
  {
   "cell_type": "code",
   "execution_count": null,
   "id": "847c1b70",
   "metadata": {},
   "outputs": [],
   "source": [
    "# List users available in the platform\n",
    "client.list_users()"
   ]
  },
  {
   "cell_type": "markdown",
   "id": "917f6a82",
   "metadata": {},
   "source": [
    "## Other Functionalilty\n",
    "\n",
    "We have built in a ton of features within the platform client to help empower developers and data scientists as they use the platform. Here is a list of functions supported by the client at this time:\n",
    "\n",
    "1. List users of the platform\n",
    "2. List models available in the platform\n",
    "3. Retrieve an .air file's configuration information\n",
    "4. Delete an .air file\n",
    "5. Retrieve an .air file's ID by name\n",
    "6. Retrieve a user's ID by name\n",
    "7. List groups in the platform\n",
    "8. List users in a group\n",
    "9. List individuals who have access to an .air file\n",
    "10. Share an .air file with users\n",
    "11. Add users to groups\n",
    "12. Remove users from groups\n",
    "13. Unshare an .air file with a user"
   ]
  },
  {
   "cell_type": "markdown",
   "id": "9610760d",
   "metadata": {},
   "source": [
    "# Creating your first .air file\n",
    "\n",
    "As part of the `aisquared` Python package, we have included the `.config` package to enable you to develop `.air` files to be used in the platform.  This interface has full parity with the configuration editor within the platform, and it enables you to seamlessly build and deploy integrations without ever leaving your Python environment.  Let's give it a try with a simple example where we want to simply display some results based on a regex identified in the webpage.  For simplicity, we will return the same results for every single hit on the regex.  So let's define what we are going to do:\n",
    "\n",
    "1. Parse the webpage for the word `the` using a regex that looks for that word\n",
    "2. Harvest every instance of the word `the` in the webpage\n",
    "3. For every instance of the word `the`, we are going to underline that word in blue\n",
    "4. When the user clicks on the underlined word, a pop-out widget will appear that will tell the user that this is the most common word in the English language\n",
    "\n",
    "This is a simple use case, but it will get us familiar with how the AI Squared Technology stack works.  Let's define the steps in the following code cell:"
   ]
  },
  {
   "cell_type": "code",
   "execution_count": null,
   "id": "b07459d3",
   "metadata": {},
   "outputs": [],
   "source": [
    "# First, we need to start with a harvester that looks for a regex in the webpage\n",
    "harvester = aisquared.config.harvesting.TextHarvester(\n",
    "    how = 'regex',\n",
    "    regex = 'the'\n",
    ")\n",
    "\n",
    "# Because we are going to be working directly with the word 'the', we don't need any preprocessing steps here\n",
    "preprocesser = None\n",
    "\n",
    "# Now, let's create the analytic which we are going to use\n",
    "# Because this analytic is going to be shipped inside the .air file, we need to store it as a JSON file\n",
    "import json\n",
    "analytic_dict = {'the' : 'This is the most common word in the English Language.'}\n",
    "\n",
    "with open('simple_analytic.json', 'w') as f:\n",
    "    json.dump(analytic_dict, f)\n",
    "    \n",
    "analytic = aisquared.config.analytic.LocalAnalytic('simple_analytic.json', input_type = 'text', all = True)\n",
    "\n",
    "# We don't need any postprocessing steps for this use case\n",
    "postprocesser = None\n",
    "\n",
    "# For rendering, we are going to create a blue underline for every instance of the word 'the'\n",
    "renderer = aisquared.config.rendering.WordRendering()"
   ]
  },
  {
   "cell_type": "markdown",
   "id": "570bb573",
   "metadata": {},
   "source": [
    "### Compiling the .air file\n",
    "\n",
    "Now that we have the configuration objects created, we can create the .air file using the `ModelConfiguration` class in the `aisquared` package"
   ]
  },
  {
   "cell_type": "code",
   "execution_count": null,
   "id": "500b9866",
   "metadata": {},
   "outputs": [],
   "source": [
    "# Create the configuration object\n",
    "config = aisquared.config.ModelConfiguration(\n",
    "    name = 'MyFirstAIRFile',\n",
    "    harvesting_steps = harvester,\n",
    "    preprocessing_steps = preprocesser,\n",
    "    analytic = analytic,\n",
    "    postprocessing_steps = postprocesser,\n",
    "    rendering_steps = renderer\n",
    ")\n",
    "\n",
    "# Run the compile method to create the .air file\n",
    "config.compile()"
   ]
  },
  {
   "cell_type": "markdown",
   "id": "5df0ca36",
   "metadata": {},
   "source": [
    "### You Have Successfully Created Your First .air File!\n",
    "\n",
    "Now that the compile method has been run successfully, you have just created your first `.air` file!  Let's list the files in the local directory and see it!"
   ]
  },
  {
   "cell_type": "code",
   "execution_count": null,
   "id": "0a119743",
   "metadata": {},
   "outputs": [],
   "source": [
    "!ls"
   ]
  },
  {
   "cell_type": "markdown",
   "id": "c3d6d0c7",
   "metadata": {},
   "source": [
    "## Uploading the `.air` File to the Platform\n",
    "\n",
    "Now that you've successfully created your first `.air` file, let's go ahead and upload it into the platform."
   ]
  },
  {
   "cell_type": "code",
   "execution_count": null,
   "id": "1c7333b8",
   "metadata": {},
   "outputs": [],
   "source": [
    "# Simply run the upload_model function and pass the name of the file on disk to upload the .air file to the platform\n",
    "model_id = client.upload_model('MyFirstAIRFile.air')\n",
    "model_id"
   ]
  },
  {
   "cell_type": "markdown",
   "id": "ce611686",
   "metadata": {},
   "source": [
    "## And You're Done\n",
    "\n",
    "Now you're done!  Now you can go test out the `.air` file you created and uploaded in the platform using the AI Squared browser plugin."
   ]
  }
 ],
 "metadata": {
  "kernelspec": {
   "display_name": "Python 3 (ipykernel)",
   "language": "python",
   "name": "python3"
  },
  "language_info": {
   "codemirror_mode": {
    "name": "ipython",
    "version": 3
   },
   "file_extension": ".py",
   "mimetype": "text/x-python",
   "name": "python",
   "nbconvert_exporter": "python",
   "pygments_lexer": "ipython3",
   "version": "3.10.8"
  }
 },
 "nbformat": 4,
 "nbformat_minor": 5
}
