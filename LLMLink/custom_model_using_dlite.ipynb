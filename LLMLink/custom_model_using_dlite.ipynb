{
 "cells": [
  {
   "cell_type": "markdown",
   "metadata": {},
   "source": [
    "# Creating a Custom Model Using AI Squared's DLite from HuggingFace\n",
    "\n",
    "This notebook shows how simple it is to create a custom model using LLMLink and deploy it to a web-based application.  In this notebook, we will utilize DLite, which was created by AI Squared and can run on most consumer-grade laptops."
   ]
  },
  {
   "cell_type": "code",
   "execution_count": null,
   "metadata": {},
   "outputs": [],
   "source": [
    "# import packages\n",
    "from transformers import pipeline\n",
    "from aisquared import llmlink"
   ]
  },
  {
   "cell_type": "code",
   "execution_count": null,
   "metadata": {},
   "outputs": [],
   "source": [
    "# Create the custom Model\n",
    "\n",
    "class DLite(llmlink.BaseModel):\n",
    "    def __init__(self):\n",
    "        super().__init__()\n",
    "        self.model = pipeline(model = 'aisquared/dlite-v1-124m', trust_remote_code = True)\n",
    "\n",
    "    def run(self, prompt):\n",
    "        return self.model(prompt, max_new_tokens = 100, top_k = 1)"
   ]
  },
  {
   "cell_type": "code",
   "execution_count": null,
   "metadata": {},
   "outputs": [],
   "source": [
    "model = DLite()\n",
    "app = llmlink.App(model)\n",
    "app.deploy()"
   ]
  }
 ],
 "metadata": {
  "kernelspec": {
   "display_name": "base",
   "language": "python",
   "name": "python3"
  },
  "language_info": {
   "codemirror_mode": {
    "name": "ipython",
    "version": 3
   },
   "file_extension": ".py",
   "mimetype": "text/x-python",
   "name": "python",
   "nbconvert_exporter": "python",
   "pygments_lexer": "ipython3",
   "version": "3.10.13"
  }
 },
 "nbformat": 4,
 "nbformat_minor": 2
}
