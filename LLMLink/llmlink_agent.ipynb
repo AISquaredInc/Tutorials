{
 "cells": [
  {
   "cell_type": "markdown",
   "metadata": {},
   "source": [
    "# Using GPT-4 as an Agent with LLMLink\n",
    "\n",
    "This notebook shows how to utilize LLMLink to create an agent using GPT-4"
   ]
  },
  {
   "cell_type": "code",
   "execution_count": null,
   "metadata": {},
   "outputs": [],
   "source": [
    "# Import required packages\n",
    "from langchain.utilities import DuckDuckGoSearchAPIWrapper, WikipediaAPIWrapper\n",
    "from langchain.agents import Tool\n",
    "from aisquared import llmlink\n",
    "\n",
    "openai_api_key = '<YOUR KEY HERE>'"
   ]
  },
  {
   "cell_type": "code",
   "execution_count": null,
   "metadata": {},
   "outputs": [],
   "source": [
    "# Create the tools\n",
    "\n",
    "ddg_search = DuckDuckGoSearchAPIWrapper()\n",
    "ddg_tool = Tool(\n",
    "    'duck_duck_go_search',\n",
    "    description = 'Access to Duck Duck Go Search. Use this to search the internet for information. Inputs should be a valid search query.',\n",
    "    func = ddg_search.run\n",
    ")\n",
    "\n",
    "wikipedia_search = WikipediaAPIWrapper()\n",
    "wikipedia_tool = Tool(\n",
    "    'wikipedia_search',\n",
    "    description = 'Access to search Wikipedia. Use this to search for specific individual topics, people, events, or other. Input should be the name of a Wikipedia article.',\n",
    "    func = wikipedia_search.run\n",
    ")\n",
    "\n",
    "model = llmlink.Model(\n",
    "    'gpt-4',\n",
    "    model_type = 'chat_openai',\n",
    "    memory = False,\n",
    "    tools = [ddg_tool, wikipedia_tool],\n",
    "    temperature = 0,\n",
    "    openai_api_key = openai_api_key\n",
    ")"
   ]
  },
  {
   "cell_type": "code",
   "execution_count": null,
   "metadata": {},
   "outputs": [],
   "source": [
    "app = llmlink.App(model = model)\n",
    "app.deploy()"
   ]
  }
 ],
 "metadata": {
  "kernelspec": {
   "display_name": "base",
   "language": "python",
   "name": "python3"
  },
  "language_info": {
   "codemirror_mode": {
    "name": "ipython",
    "version": 3
   },
   "file_extension": ".py",
   "mimetype": "text/x-python",
   "name": "python",
   "nbconvert_exporter": "python",
   "pygments_lexer": "ipython3",
   "version": "3.10.13"
  }
 },
 "nbformat": 4,
 "nbformat_minor": 2
}
